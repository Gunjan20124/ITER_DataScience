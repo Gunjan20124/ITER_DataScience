{
 "cells": [
  {
   "cell_type": "code",
   "execution_count": null,
   "id": "39d9cf6b-1a8a-4133-b3e3-9d5f2aefbd65",
   "metadata": {},
   "outputs": [],
   "source": [
    "import numpy as np\n",
    "#the numpy .all() function tests whether all elements along the mentioned axis evaluate to true \n",
    "arr = np.all([[True , True] , [True , False]]) # axis = None (default)\n",
    "print(arr)\n",
    "\n",
    "arr2 = np.all([[True , True] , [True,False]], axis =0) # axis = 0 (column wise)\n",
    "print(arr2)\n",
    "\n",
    "arr3 = np.all([[True,True] , [True,False]], axis = 1) # axis = 1 (row wise)\n",
    "print(arr3)"
   ]
  },
  {
   "cell_type": "code",
   "execution_count": 2,
   "id": "56266a14",
   "metadata": {},
   "outputs": [
    {
     "name": "stdout",
     "output_type": "stream",
     "text": [
      "[1 5 9]\n",
      "[2 6]\n",
      "[2 6]\n"
     ]
    }
   ],
   "source": [
    "import numpy as np\n",
    "#diag(a,k=0) function is used to extract a diagonal or construct a diagonal array.\n",
    "a = np.matrix([[1,2,3], [4,5,6], [7,8,9]])\n",
    "print(np.diag(a)) # main diagonal\n",
    "print(np.diag(a , k=1))#above main diagonal\n",
    "print(np.diag(a , k=1))#below main diagonal"
   ]
  },
  {
   "cell_type": "code",
   "execution_count": 3,
   "id": "d484c6ae",
   "metadata": {},
   "outputs": [
    {
     "name": "stdout",
     "output_type": "stream",
     "text": [
      "[13.          2.82842712  4.24264069  7.21110255]\n"
     ]
    }
   ],
   "source": [
    "import numpy as np\n",
    "#it helps to calculate hypoteneus of right triangle\n",
    "leg1 = [12 , 2, 3 , 4]\n",
    "leg2 = [5 , 2 ,3 ,6]\n",
    "result = np.hypot(leg1 , leg2)\n",
    "print(result)"
   ]
  },
  {
   "cell_type": "code",
   "execution_count": 5,
   "id": "830c78dc",
   "metadata": {},
   "outputs": [
    {
     "name": "stdout",
     "output_type": "stream",
     "text": [
      "[[0.63627281 0.30642868 0.25202602 0.83014906]\n",
      " [0.74922975 0.81252102 0.5460981  0.68378975]\n",
      " [0.00553727 0.02554233 0.2817547  0.50373616]]\n",
      "[[1. 1. 1. 1.]\n",
      " [1. 1. 1. 1.]\n",
      " [1. 1. 1. 1.]]\n",
      "[[12.04159458  2.23606798  3.16227766  4.12310563]\n",
      " [12.04159458  2.23606798  3.16227766  4.12310563]\n",
      " [12.04159458  2.23606798  3.16227766  4.12310563]]\n"
     ]
    }
   ],
   "source": [
    "import numpy as np\n",
    "#working with 2D arrays\n",
    "arr = np.random.rand(3,4)\n",
    "print(arr)\n",
    "\n",
    "leg2 = np.ones((3,4))\n",
    "print(leg2)\n",
    "\n",
    "result = np.hypot(leg1 , leg2)\n",
    "print(result)"
   ]
  },
  {
   "cell_type": "code",
   "execution_count": 6,
   "id": "8deecac2",
   "metadata": {},
   "outputs": [
    {
     "name": "stdout",
     "output_type": "stream",
     "text": [
      "True\n",
      "[False  True]\n",
      "True\n"
     ]
    }
   ],
   "source": [
    "#the numpy.any() function tests whether an array elements along the mentioned axis evaluated to True\n",
    "import numpy as np\n",
    "print(np.any([[False , True] , [False , False]])) # axis = None (default)\n",
    "print(np.any([[False , True] , [False , False]], axis = 0)) # axis = 0 (column wise)\n",
    "print(np.any([-1 , 4 ,5]))"
   ]
  },
  {
   "cell_type": "code",
   "execution_count": 8,
   "id": "e9cf5183",
   "metadata": {},
   "outputs": [
    {
     "name": "stdout",
     "output_type": "stream",
     "text": [
      "True True\n",
      "False False\n"
     ]
    }
   ],
   "source": [
    "#import numpy as np\n",
    "print(np.any([[1,0] , [0,4]]) , True)\n",
    "print(np.any([[0,0] , [0,0]]) , False)\n",
    "\n"
   ]
  },
  {
   "cell_type": "code",
   "execution_count": 9,
   "id": "3c943055",
   "metadata": {},
   "outputs": [
    {
     "name": "stdout",
     "output_type": "stream",
     "text": [
      "diagflat use on main diagonal : \n",
      " [[1 0]\n",
      " [0 7]] \n",
      "\n",
      "diagflat use on main diagonal : \n",
      " [[1 0 0]\n",
      " [0 7 0]\n",
      " [0 0 6]] \n",
      "\n",
      "diagflat above main diagonal : \n",
      " [[0 1 0 0]\n",
      " [0 0 7 0]\n",
      " [0 0 0 6]\n",
      " [0 0 0 0]] \n",
      "\n"
     ]
    }
   ],
   "source": [
    "#numpy.diagflat (a, k = 0): Create a two-dimensional array with the array_like input as a diagonal to the new output array.\n",
    "import numpy as geek\n",
    "\n",
    "print(\"diagflat use on main diagonal : \\n\", geek.diagflat([1, 7]), \"\\n\")\n",
    "\n",
    "print(\"diagflat use on main diagonal : \\n\", geek.diagflat([1, 7, 6]), \"\\n\")\n",
    "\n",
    "# Diagonal above main diagonal\n",
    "print(\"diagflat above main diagonal : \\n\", geek.diagflat([1, 7, 6], 1), \"\\n\")\n"
   ]
  },
  {
   "cell_type": "code",
   "execution_count": 10,
   "id": "ca563b2c",
   "metadata": {},
   "outputs": [
    {
     "name": "stdout",
     "output_type": "stream",
     "text": [
      "[1 3 5 6]\n",
      "[23 56]\n"
     ]
    }
   ],
   "source": [
    "#numpy.absolute(arr, out = None, ufunc 'absolute') : This mathematical function helps user to calculate absolute value of each element. For complex input, a + ib, the absolute value is \n",
    "#sqrt(a^2 + b^2).\n",
    "import numpy as np\n",
    "\n",
    "arr1 = [1 , 3, 5, 6]\n",
    "print(np.absolute(arr1))\n",
    "\n",
    "arr2 = [23 , -56]\n",
    "print(np.absolute(arr2))"
   ]
  },
  {
   "cell_type": "code",
   "execution_count": 11,
   "id": "357b99f5",
   "metadata": {},
   "outputs": [
    {
     "name": "stdout",
     "output_type": "stream",
     "text": [
      "Absolute(4 + 3j) :  5.0\n",
      "\n",
      "Absolute value(16 + 13j) :  20.615528128088304\n"
     ]
    }
   ],
   "source": [
    "import numpy as np\n",
    "\n",
    "a = 4 + 3j\n",
    "print(\"Absolute(4 + 3j) : \", np.absolute(a))\n",
    "\n",
    "b = 16 + 13j\n",
    "print(\"\\nAbsolute value(16 + 13j) : \",  np.absolute(b))\n",
    "\n"
   ]
  },
  {
   "cell_type": "code",
   "execution_count": 12,
   "id": "0cd4631d",
   "metadata": {},
   "outputs": [
    {
     "name": "stdout",
     "output_type": "stream",
     "text": [
      "Graphical Representation : \n",
      " [5. 3. 1. 1. 3. 5.]\n"
     ]
    },
    {
     "data": {
      "image/png": "[encoded data removed]",
      "text/plain": [
       "<Figure size 640x480 with 1 Axes>"
      ]
     },
     "metadata": {},
     "output_type": "display_data"
    }
   ],
   "source": [
    "import numpy as np\n",
    "import matplotlib.pyplot as plt\n",
    "\n",
    "a = np.linspace(start = -5, stop = 5,  num = 6, endpoint = True)\n",
    "                \n",
    "print(\"Graphical Representation : \\n\",  np.absolute(a))\n",
    "\n",
    "plt.title(\"blue : with absolute\\nred : without absolute\")\n",
    "plt.plot(a, np.absolute(a))\n",
    "\n",
    "plt.plot(a, a, color = 'red')\n",
    "plt.show()"
   ]
  },
  {
   "cell_type": "code",
   "execution_count": null,
   "id": "b6922a35",
   "metadata": {},
   "outputs": [],
   "source": [
    "#The numpy.full_like() function return a new array with the same shape and type as a given array.\n",
    "\n",
    "import numpy as geek\n",
    "\n",
    "x = geek.arange(10, dtype = int).reshape(2, 5)\n",
    "print(\"x before full_like : \\n\", x)\n",
    "\n",
    "# using full_like\n",
    "print(\"\\nx after full_like : \\n\", geek.full_like(x, 10.0))\n",
    "\n",
    "y = geek.arange(10, dtype = float).reshape(2, 5)\n",
    "print(\"\\n\\ny before full_like : \\n\", x)\n",
    "\n",
    "# using full_like\n",
    "print(\"\\ny after full_like : \\n\", geek.full_like(y, 0.01))"
   ]
  },
  {
   "cell_type": "code",
   "execution_count": 13,
   "id": "2c5f0bc9",
   "metadata": {},
   "outputs": [
    {
     "name": "stdout",
     "output_type": "stream",
     "text": [
      "Original array : \n",
      " [[5, 6, 2, 7, 1], [4, 9, 2, 9, 3]]\n",
      "\n",
      "Taking Indices\n",
      " [5 1]\n",
      "\n",
      "Taking Indices\n",
      " [[5 1]\n",
      " [4 3]]\n"
     ]
    }
   ],
   "source": [
    "# The numpy.take() function returns elements from array along the mentioned axis and indices.\n",
    "\n",
    "import numpy as geek\n",
    "\n",
    "#array = geek.arange(10).reshape(2, 5)\n",
    "array = [[5, 6, 2, 7, 1],\n",
    "         [4, 9, 2, 9, 3]]\n",
    "print(\"Original array : \\n\", array)\n",
    "\n",
    "# indices = [0, 4]\n",
    "print(\"\\nTaking Indices\\n\", geek.take(array, [0, 4]))\n",
    "\n",
    "# indices = [0, 4] with axis = 1\n",
    "print(\"\\nTaking Indices\\n\", geek.take(array, [0, 4], axis = 1))"
   ]
  },
  {
   "cell_type": "code",
   "execution_count": 14,
   "id": "74bfc23d",
   "metadata": {},
   "outputs": [
    {
     "name": "stdout",
     "output_type": "stream",
     "text": [
      "Indices of diagonal elements as tuple : \n",
      "(array([0, 1, 2, 3, 4]), array([0, 1, 2, 3, 4])) \n",
      "\n",
      "Initial array : \n",
      " [[ 0  1  2  3]\n",
      " [ 4  5  6  7]\n",
      " [ 8  9 10 11]\n",
      " [12 13 14 15]]\n",
      "\n",
      " New array : \n",
      " [[25  1  2  3]\n",
      " [ 4 25  6  7]\n",
      " [ 8  9 25 11]\n",
      " [12 13 14 25]]\n"
     ]
    }
   ],
   "source": [
    "import numpy as geek \n",
    "d = geek.diag_indices(5)\n",
    "print(\"Indices of diagonal elements as tuple : \")\n",
    "print(d, \"\\n\")\n",
    "\n",
    "array = geek.arange(16).reshape(4,4)\n",
    "print(\"Initial array : \\n\", array)\n",
    "\n",
    "d = geek.diag_indices(4)\n",
    "array[d] = 25\n",
    "print(\"\\n New array : \\n\", array)"
   ]
  },
  {
   "cell_type": "code",
   "execution_count": 15,
   "id": "bb2b352c",
   "metadata": {},
   "outputs": [
    {
     "name": "stdout",
     "output_type": "stream",
     "text": [
      "Manipulated array : \n",
      " [[111   1   2]\n",
      " [  3 111   5]\n",
      " [  6   7 111]\n",
      " [  9  10  11]]\n"
     ]
    }
   ],
   "source": [
    "import numpy as geek \n",
    "\n",
    "# Manipulating a 2D array \n",
    "d = geek.diag_indices(3, 2)\n",
    "\n",
    "array = geek.arange(12).reshape(4, 3)\n",
    "\n",
    "array[d] = 111\n",
    "print(\"Manipulated array : \\n\", array)"
   ]
  },
  {
   "cell_type": "code",
   "execution_count": null,
   "id": "469f64c6",
   "metadata": {},
   "outputs": [],
   "source": [
    "# ceil() function\n",
    "import numpy as np\n",
    "\n",
    "in_array = [.5, 1.5, 2.5, 3.5, 4.5, 10.1]\n",
    "print (\"Input array : \\n\", in_array)\n",
    "\n",
    "ceiloff_values = np.ceil(in_array)\n",
    "print (\"\\nRounded values : \\n\", ceiloff_values)\n",
    "\n",
    "\n",
    "in_array = [.53, 1.54, .71]\n",
    "print (\"\\nInput array : \\n\", in_array)\n",
    "\n",
    "ceiloff_values = np.ceil(in_array)\n",
    "print (\"\\nRounded values : \\n\", ceiloff_values)\n",
    "\n",
    "in_array = [.5538, 1.33354, .71445]\n",
    "print (\"\\nInput array : \\n\", in_array)\n",
    "\n",
    "ceiloff_values = np.ceil(in_array)\n",
    "print (\"\\nRounded values : \\n\", ceiloff_values)"
   ]
  },
  {
   "cell_type": "code",
   "execution_count": 16,
   "id": "c674ac05",
   "metadata": {},
   "outputs": [
    {
     "name": "stdout",
     "output_type": "stream",
     "text": [
      "Input array : \n",
      " [1.67, 4.5, 7, 9, 12]\n",
      "\n",
      "Rounded values : \n",
      " [ 2.  5.  7.  9. 12.]\n",
      "\n",
      "Input array : \n",
      " [133.0, 344.54, 437.56, 44.9, 1.2]\n",
      "\n",
      "Rounded values upto 2: \n",
      " [133. 345. 438.  45.   2.]\n"
     ]
    }
   ],
   "source": [
    "# ceil() function\n",
    "import numpy as np\n",
    "\n",
    "in_array = [1.67, 4.5, 7, 9, 12]\n",
    "print (\"Input array : \\n\", in_array)\n",
    "\n",
    "ceiloff_values = np.ceil(in_array)\n",
    "print (\"\\nRounded values : \\n\", ceiloff_values)\n",
    "\n",
    "\n",
    "in_array = [133.000, 344.54, 437.56, 44.9, 1.2]\n",
    "print (\"\\nInput array : \\n\", in_array)\n",
    "\n",
    "ceiloff_values = np.ceil(in_array)\n",
    "print (\"\\nRounded values upto 2: \\n\", ceiloff_values)"
   ]
  },
  {
   "cell_type": "code",
   "execution_count": null,
   "id": "ed1fe5cb",
   "metadata": {},
   "outputs": [],
   "source": [
    "\n",
    "import numpy as np\n",
    "import math\n",
    "\n",
    "in_array = [0, math.pi / 2, np.pi / 3, np.pi]\n",
    "print (\"Input array : \\n\", in_array)\n",
    "\n",
    "Sin_Values = np.sin(in_array)\n",
    "print (\"\\nSine values : \\n\", Sin_Values)"
   ]
  },
  {
   "cell_type": "code",
   "execution_count": 17,
   "id": "618083a5",
   "metadata": {},
   "outputs": [
    {
     "name": "stdout",
     "output_type": "stream",
     "text": [
      "After put : \n",
      " [-44   1 -55   3   4]\n"
     ]
    }
   ],
   "source": [
    "# numpy.put()\n",
    "\n",
    "import numpy as geek\n",
    "\n",
    "a = geek.arange(5)\n",
    "geek.put(a, [0, 2], [-44, -55])\n",
    "print(\"After put : \\n\", a)"
   ]
  },
  {
   "cell_type": "code",
   "execution_count": null,
   "id": "dd1bc389",
   "metadata": {},
   "outputs": [
    {
     "name": "stdout",
     "output_type": "stream",
     "text": [
      "Via array-like input : \n",
      " [[5 6 7]\n",
      " [4 6 8]] \n",
      "\n",
      "c matrix : \n",
      " [[ 5 10  7]\n",
      " [ 4  6  8]]\n"
     ]
    }
   ],
   "source": [
    "# numpy.asmatrix(data, dtype = None) Returns a matrix by interpreting the input as a matrix. Parameters :\n",
    "import numpy as geek\n",
    "\n",
    "b = geek.matrix([[5, 6, 7], [4, 6, 8]])\n",
    "print(\"Via array-like input : \\n\", b, \"\\n\")\n",
    "\n",
    "c = geek.asmatrix(b)\n",
    "b[0, 1] = 10\n",
    "print(\"c matrix : \\n\", c)"
   ]
  },
  {
   "cell_type": "code",
   "execution_count": 21,
   "id": "9b017c4a",
   "metadata": {},
   "outputs": [
    {
     "name": "stdout",
     "output_type": "stream",
     "text": [
      "Floored: [ 0.  1.  2.  3.  4. 10.]\n"
     ]
    }
   ],
   "source": [
    "import numpy as np\n",
    "\n",
    "a = [0.5, 1.5, 2.5, 3, 4.5, 10.1]\n",
    "\n",
    "res = np.floor(a)\n",
    "print(\"Floored:\", res)"
   ]
  },
  {
   "cell_type": "code",
   "execution_count": 22,
   "id": "775fff9d",
   "metadata": {},
   "outputs": [
    {
     "name": "stdout",
     "output_type": "stream",
     "text": [
      "Input: [0.5538, 1.33354, 0.71445]\n",
      "Floored: [0. 1. 0.]\n"
     ]
    }
   ],
   "source": [
    "import numpy as np\n",
    "\n",
    "a = [0.5538, 1.33354, 0.71445]\n",
    "print(\"Input:\", a)\n",
    "\n",
    "res = np.floor(a)\n",
    "print(\"Floored:\", res)"
   ]
  },
  {
   "cell_type": "code",
   "execution_count": 23,
   "id": "b7c42799",
   "metadata": {},
   "outputs": [
    {
     "name": "stdout",
     "output_type": "stream",
     "text": [
      "Input: [1.67, 4.5, 7, 9, 12]\n",
      "Floored: [ 1.  4.  7.  9. 12.]\n"
     ]
    }
   ],
   "source": [
    "import numpy as np\n",
    "\n",
    "a = [1.67, 4.5, 7, 9, 12]\n",
    "print(\"Input:\", a)\n",
    "\n",
    "res = np.floor(a)\n",
    "print(\"Floored:\", res)"
   ]
  },
  {
   "cell_type": "code",
   "execution_count": 24,
   "id": "dbed3d33",
   "metadata": {},
   "outputs": [
    {
     "name": "stdout",
     "output_type": "stream",
     "text": [
      "Input array : \n",
      " [0, 1.5707963267948966, 1.0471975511965976, 3.141592653589793]\n",
      "\n",
      "Cosine values : \n",
      " [ 1.000000e+00  6.123234e-17  5.000000e-01 -1.000000e+00]\n"
     ]
    }
   ],
   "source": [
    "\n",
    "import numpy as np\n",
    "import math\n",
    "\n",
    "in_array = [0, math.pi / 2, np.pi / 3, np.pi]\n",
    "print (\"Input array : \\n\", in_array)\n",
    "\n",
    "cos_Values = np.cos(in_array)\n",
    "print (\"\\nCosine values : \\n\", cos_Values)"
   ]
  },
  {
   "cell_type": "code",
   "execution_count": 25,
   "id": "8e63aa04",
   "metadata": {},
   "outputs": [
    {
     "name": "stdout",
     "output_type": "stream",
     "text": [
      "in1: geeks\n",
      "in2: No.\n",
      "in3: 1\n"
     ]
    }
   ],
   "source": [
    "#The numpy.apply_along_axis() function helps us to apply a required function to 1D slices of the given array. 1d_func(ar, *args) : works on 1-D arrays, where ar is 1D slice of arr along axis.\n",
    "\n",
    "def test_args_kwargs(in1, in2, in3):\n",
    "    print (\"in1:\", in1)\n",
    "    print (\"in2:\", in2)\n",
    "    print (\"in3:\", in3)\n",
    "    \n",
    "    \n",
    "kwargs = {\"in3\": 1, \"in2\": \"No.\",\"in1\":\"geeks\"}\n",
    "test_args_kwargs(**kwargs)"
   ]
  },
  {
   "cell_type": "code",
   "execution_count": 26,
   "id": "8fe8c42e",
   "metadata": {},
   "outputs": [
    {
     "name": "stdout",
     "output_type": "stream",
     "text": [
      "Sorted as per axis 1 : \n",
      " [[1 7 8]\n",
      " [3 4 9]\n",
      " [2 5 6]]\n",
      "Sorted as per axis 0 : \n",
      " [[4 1 6]\n",
      " [5 2 7]\n",
      " [8 3 9]]\n"
     ]
    }
   ],
   "source": [
    "import numpy as geek \n",
    "\n",
    "geek_array = geek.array([[8,1,7],\n",
    "                         [4,3,9],\n",
    "                         [5,2,6]])\n",
    "\n",
    "print(\"Sorted as per axis 1 : \\n\", geek.apply_along_axis(sorted, 1, geek_array))\n",
    "\n",
    "print(\"Sorted as per axis 0 : \\n\", geek.apply_along_axis(sorted, 0, geek_array))"
   ]
  },
  {
   "cell_type": "code",
   "execution_count": null,
   "id": "088f9ee7",
   "metadata": {},
   "outputs": [],
   "source": [
    "\n",
    "import numpy as geek\n",
    "\n",
    "A = geek.mat('4 1; 22 1')\n",
    "B = geek.mat('5 2; 5 2')\n",
    "C = geek.mat('8 4; 6 6')\n",
    "\n",
    "# array like input\n",
    "a = geek.bmat([[A, B], [C, A]])\n",
    "print(\"Via bmat array like input : \\n\", a, \"\\n\\n\")\n",
    "\n",
    "# string like input\n",
    "s = geek.bmat('A, B; A, A')\n",
    "print(\"Via bmat string like input : \\n\", s)"
   ]
  },
  {
   "cell_type": "code",
   "execution_count": 32,
   "id": "b8b33915",
   "metadata": {},
   "outputs": [
    {
     "name": "stdout",
     "output_type": "stream",
     "text": [
      "Radian values : \n",
      " [0, 1.5707963267948966, 1.0471975511965976, 3.141592653589793]\n",
      "\n",
      "Degree values : \n",
      " [  0.  90.  60. 180.]\n"
     ]
    }
   ],
   "source": [
    "import numpy as np\n",
    "import math\n",
    "\n",
    "in_array = [0, math.pi / 2, np.pi / 3, np.pi]\n",
    "print (\"Radian values : \\n\", in_array)\n",
    "\n",
    "degree_Values = np.degrees(in_array)\n",
    "print (\"\\nDegree values : \\n\", degree_Values)"
   ]
  },
  {
   "cell_type": "code",
   "execution_count": 33,
   "id": "a8021845",
   "metadata": {},
   "outputs": [
    {
     "name": "stdout",
     "output_type": "stream",
     "text": [
      "Radian values : \n",
      " [0, 1.5707963267948966, 1.0471975511965976, 3.141592653589793]\n",
      "\n",
      "Degree values : \n",
      " [  0.  90.  60. 180.]\n"
     ]
    }
   ],
   "source": [
    "\n",
    "import numpy as np\n",
    "import math\n",
    "\n",
    "in_array = [0, math.pi / 2, np.pi / 3, np.pi]\n",
    "print (\"Radian values : \\n\", in_array)\n",
    "\n",
    "out_Values = np.rad2deg(in_array)\n",
    "print (\"\\nDegree values : \\n\", out_Values)"
   ]
  },
  {
   "cell_type": "code",
   "execution_count": 34,
   "id": "253a4c93",
   "metadata": {},
   "outputs": [
    {
     "name": "stdout",
     "output_type": "stream",
     "text": [
      "Input array : \n",
      " [0, 0.7853981633974483, 4.71238898038469, 0.5235987755982988]\n",
      "\n",
      "Tan values : \n",
      " [0.00000000e+00 1.00000000e+00 5.44374645e+15 5.77350269e-01]\n"
     ]
    }
   ],
   "source": [
    "\n",
    "import numpy as np\n",
    "import math\n",
    "\n",
    "in_array = [0, math.pi / 4, 3*np.pi / 2, math.pi/6]\n",
    "print (\"Input array : \\n\", in_array)\n",
    "\n",
    "tan_Values = np.tan(in_array)\n",
    "print (\"\\nTan values : \\n\", tan_Values)"
   ]
  },
  {
   "cell_type": "code",
   "execution_count": 35,
   "id": "335dec90",
   "metadata": {},
   "outputs": [
    {
     "name": "stdout",
     "output_type": "stream",
     "text": [
      "in_array :  [0.         0.28559933 0.57119866 0.856798   1.14239733 1.42799666\n",
      " 1.71359599 1.99919533 2.28479466 2.57039399 2.85599332 3.14159265]\n",
      "\n",
      "out_array :  [ 0.00000000e+00  2.93626493e-01  6.42660977e-01  1.15406152e+00\n",
      "  2.18969456e+00  6.95515277e+00 -6.95515277e+00 -2.18969456e+00\n",
      " -1.15406152e+00 -6.42660977e-01 -2.93626493e-01 -1.22464680e-16]\n"
     ]
    },
    {
     "data": {
      "image/png": "[encoded data removed]",
      "text/plain": [
       "<Figure size 640x480 with 1 Axes>"
      ]
     },
     "metadata": {},
     "output_type": "display_data"
    }
   ],
   "source": [
    "\n",
    "import numpy as np\n",
    "import matplotlib.pyplot as plt\n",
    "\n",
    "in_array = np.linspace(0, np.pi, 12)\n",
    "out_array = np.tan(in_array)\n",
    "\n",
    "print(\"in_array : \", in_array)\n",
    "print(\"\\nout_array : \", out_array)\n",
    "\n",
    "# red for numpy.tan()\n",
    "plt.plot(in_array, out_array, color = 'red', marker = \"o\")\n",
    "plt.title(\"numpy.tan()\")\n",
    "plt.xlabel(\"X\")\n",
    "plt.ylabel(\"Y\")\n",
    "plt.show()"
   ]
  },
  {
   "cell_type": "code",
   "execution_count": 36,
   "id": "42094e73",
   "metadata": {},
   "outputs": [
    {
     "name": "stdout",
     "output_type": "stream",
     "text": [
      "geek array  :\n",
      " [[[ 0  1  2  3]\n",
      "  [ 4  5  6  7]]\n",
      "\n",
      " [[ 8  9 10 11]\n",
      "  [12 13 14 15]]]\n",
      "\n",
      "func sum : \n",
      "  [[[24 28 32 36]]]\n",
      "\n",
      "func min : \n",
      "  [[[0 1 2 3]]]\n"
     ]
    }
   ],
   "source": [
    "\n",
    "import numpy as geek \n",
    "\n",
    "# Using a 3D array\n",
    "geek_array = geek.arange(16).reshape(2, 2, 4)\n",
    "print(\"geek array  :\\n\", geek_array)\n",
    "\n",
    "# Applying pre-defined sum function over the axis of 3D array\n",
    "print(\"\\nfunc sum : \\n \", geek.apply_over_axes(geek.sum, geek_array, [1, 1, 0]))\n",
    "\n",
    "# Applying pre-defined min function over the axis of 3D array\n",
    "print(\"\\nfunc min : \\n \", geek.apply_over_axes(geek.min, geek_array, [1, 1, 0]))"
   ]
  },
  {
   "cell_type": "code",
   "execution_count": 37,
   "id": "fa3b639a",
   "metadata": {},
   "outputs": [
    {
     "name": "stdout",
     "output_type": "stream",
     "text": [
      "geek array  :\n",
      " [[ 0  1  2  3]\n",
      " [ 4  5  6  7]\n",
      " [ 8  9 10 11]\n",
      " [12 13 14 15]]\n",
      "\n",
      "Applying func max : \n",
      "  [[ 3]\n",
      " [ 7]\n",
      " [11]\n",
      " [15]]\n",
      "\n",
      "Applying func min : \n",
      "  [[ 0]\n",
      " [ 4]\n",
      " [ 8]\n",
      " [12]]\n",
      "\n",
      "Applying func sum : \n",
      "  [[ 6]\n",
      " [22]\n",
      " [38]\n",
      " [54]]\n"
     ]
    }
   ],
   "source": [
    "\n",
    "import numpy as geek \n",
    "\n",
    "# Using a 2D array\n",
    "geek_array = geek.arange(16).reshape(4, 4)\n",
    "print(\"geek array  :\\n\", geek_array)\n",
    "\n",
    "\"\"\"\n",
    "    ->[[ 0  1  2  3]    min : 0     max : 3    sum =  0 + 1 + 2 + 3 \n",
    "    -> [ 4  5  6  7]    min : 4     max : 7    sum =  4 + 5 + 6 + 7\n",
    "    -> [ 8  9 10 11]    min : 8     max : 11   sum =  8 + 9 + 10 + 11\n",
    "    -> [12 13 14 15]]   min : 12    max : 15   sum =  12 + 13 + 14 + 15\n",
    "\n",
    "\"\"\"\n",
    "\n",
    "print(\"\\nApplying func max : \\n \", geek.apply_over_axes(geek.max, geek_array, [1, -1]))\n",
    "\n",
    "print(\"\\nApplying func min : \\n \", geek.apply_over_axes(geek.min, geek_array, [1, -1]))\n",
    "\n",
    "print(\"\\nApplying func sum : \\n \", geek.apply_over_axes(geek.sum, geek_array, [1, -1]))"
   ]
  },
  {
   "cell_type": "code",
   "execution_count": 38,
   "id": "fabc531e",
   "metadata": {},
   "outputs": [
    {
     "name": "stdout",
     "output_type": "stream",
     "text": [
      "geek array  :\n",
      " [[[ 0  1  2  3]\n",
      "  [ 4  5  6  7]]\n",
      "\n",
      " [[ 8  9 10 11]\n",
      "  [12 13 14 15]]]\n",
      "func : \n",
      " [[[120]]]\n"
     ]
    }
   ],
   "source": [
    "import numpy as geek \n",
    "\n",
    "# Using a 3D array\n",
    "geek_array = geek.arange(16).reshape(2, 2, 4)\n",
    "print(\"geek array  :\\n\", geek_array)\n",
    "\n",
    "# returning sum of all elements as per the axis\n",
    "print(\"func : \\n\", geek.sum(geek_array, axis=(1, 0, 2), keepdims = True))"
   ]
  },
  {
   "cell_type": "code",
   "execution_count": 40,
   "id": "9e8762ae",
   "metadata": {},
   "outputs": [
    {
     "name": "stdout",
     "output_type": "stream",
     "text": [
      "Degree values : \n",
      " [  0.  90. 180. 270. 360. 450. 540. 630. 720. 810.]\n",
      "\n",
      "Radian values : \n",
      " [ 0.          1.57079633  3.14159265  4.71238898  6.28318531  7.85398163\n",
      "  9.42477796 10.99557429 12.56637061 14.13716694]\n"
     ]
    }
   ],
   "source": [
    "import numpy as np\n",
    "import math\n",
    "\n",
    "in_array = np.arange(10.) * 90\n",
    "print (\"Degree values : \\n\", in_array)\n",
    "\n",
    "radian_Values = np.radians(in_array)\n",
    "print (\"\\nRadian values : \\n\", radian_Values)"
   ]
  },
  {
   "cell_type": "code",
   "execution_count": 41,
   "id": "891cb259",
   "metadata": {},
   "outputs": [
    {
     "name": "stdout",
     "output_type": "stream",
     "text": [
      "Input array : \n",
      " [0, 1.5707963267948966, 1.0471975511965976, 3.141592653589793]\n",
      "\n",
      "Sine Hyperbolic values : \n",
      " [ 0.          2.3012989   1.24936705 11.54873936]\n"
     ]
    }
   ],
   "source": [
    "\n",
    "import numpy as np\n",
    "import math\n",
    "\n",
    "in_array = [0, math.pi / 2, np.pi / 3, np.pi]\n",
    "print (\"Input array : \\n\", in_array)\n",
    "\n",
    "Sinh_Values = np.sinh(in_array)\n",
    "print (\"\\nSine Hyperbolic values : \\n\", Sinh_Values)"
   ]
  },
  {
   "cell_type": "code",
   "execution_count": 42,
   "id": "d6085f34",
   "metadata": {},
   "outputs": [
    {
     "name": "stdout",
     "output_type": "stream",
     "text": [
      "INPUT ARRAY : \n",
      " [0 1 2 3 4 5 6 7]\n",
      "\n",
      "Indices of min element :  0\n"
     ]
    }
   ],
   "source": [
    "import numpy as geek \n",
    "\n",
    "# Working on 1D array\n",
    "array = geek.arange(8)\n",
    "print(\"INPUT ARRAY : \\n\", array)\n",
    "\n",
    "\n",
    "# returning Indices of the min element\n",
    "# as per the indices\n",
    "print(\"\\nIndices of min element : \", geek.argmin(array, axis=0))"
   ]
  },
  {
   "cell_type": "code",
   "execution_count": 43,
   "id": "3678e3a9",
   "metadata": {},
   "outputs": [
    {
     "name": "stdout",
     "output_type": "stream",
     "text": [
      "Original array : \n",
      " [[ 0  1  2  3]\n",
      " [ 4  5  6  7]\n",
      " [ 8  9 10 11]]\n",
      "\n",
      "Rolling with 1 shift : \n",
      " [[11  0  1  2]\n",
      " [ 3  4  5  6]\n",
      " [ 7  8  9 10]]\n",
      "\n",
      "Rolling with 5 shift : \n",
      " [[ 7  8  9 10]\n",
      " [11  0  1  2]\n",
      " [ 3  4  5  6]]\n",
      "\n",
      "Rolling with 2 shift with 0 axis : \n",
      " [[ 4  5  6  7]\n",
      " [ 8  9 10 11]\n",
      " [ 0  1  2  3]]\n"
     ]
    }
   ],
   "source": [
    "import numpy as geek\n",
    " \n",
    "array = geek.arange(12).reshape(3, 4)\n",
    "print(\"Original array : \\n\", array)\n",
    " \n",
    "# Rolling array; Shifting one place\n",
    "print(\"\\nRolling with 1 shift : \\n\", geek.roll(array, 1))\n",
    "\n",
    "# Rolling array; Shifting five places\n",
    "print(\"\\nRolling with 5 shift : \\n\", geek.roll(array, 5))\n",
    "\n",
    "# Rolling array; Shifting five places with 0th axis\n",
    "print(\"\\nRolling with 2 shift with 0 axis : \\n\", geek.roll(array, 2, axis = 0))"
   ]
  },
  {
   "cell_type": "code",
   "execution_count": 49,
   "id": "31cae4eb",
   "metadata": {},
   "outputs": [
    {
     "name": "stdout",
     "output_type": "stream",
     "text": [
      "Input array : \n",
      " [0, 1.5707963267948966, 1.0471975511965976, 3.141592653589793]\n",
      "\n",
      "cosine Hyperbolic values : \n",
      " [ 1.          2.50917848  1.60028686 11.59195328]\n"
     ]
    }
   ],
   "source": [
    "# Python3 program explaining\n",
    "# cosh() function\n",
    "\n",
    "import numpy as np\n",
    "import math\n",
    "\n",
    "in_array = [0, math.pi / 2, np.pi / 3, np.pi]\n",
    "print (\"Input array : \\n\", in_array)\n",
    "\n",
    "cosh_Values = np.cosh(in_array)\n",
    "print (\"\\ncosine Hyperbolic values : \\n\", cosh_Values)\n"
   ]
  },
  {
   "cell_type": "code",
   "execution_count": 50,
   "id": "a21a1d2b",
   "metadata": {},
   "outputs": [
    {
     "name": "stdout",
     "output_type": "stream",
     "text": [
      "INPUT ARRAY : \n",
      " [[ 0  1  2  3]\n",
      " [ 4  5  6  7]\n",
      " [ 8  9 10 11]]\n",
      "\n",
      "Max element :  11\n",
      "\n",
      "Indices of Max element :  [2 2 2 2]\n",
      "\n",
      "Indices of Max element :  [3 3 3]\n"
     ]
    }
   ],
   "source": [
    "\n",
    "import numpy as geek \n",
    "\n",
    "# Working on 2D array\n",
    "array = geek.arange(12).reshape(3, 4)\n",
    "print(\"INPUT ARRAY : \\n\", array)\n",
    "\n",
    "# No axis mentioned, so works on entire array\n",
    "print(\"\\nMax element : \", geek.argmax(array))\n",
    "\n",
    "# returning Indices of the max element\n",
    "# as per the indices\n",
    "print(\"\\nIndices of Max element : \", geek.argmax(array, axis=0))\n",
    "print(\"\\nIndices of Max element : \", geek.argmax(array, axis=1))"
   ]
  },
  {
   "cell_type": "code",
   "execution_count": 51,
   "id": "0bb76bc0",
   "metadata": {},
   "outputs": [
    {
     "name": "stdout",
     "output_type": "stream",
     "text": [
      "Matrix b : \n",
      " [[1. 0.]\n",
      " [0. 1.]]\n",
      "\n",
      "Matrix a : \n",
      " [[1. 0. 0. 0.]\n",
      " [0. 1. 0. 0.]\n",
      " [0. 0. 1. 0.]\n",
      " [0. 0. 0. 1.]]\n"
     ]
    }
   ],
   "source": [
    "import numpy as geek\n",
    "\n",
    "b = geek.identity(2, dtype = float)\n",
    "print(\"Matrix b : \\n\", b)\n",
    "\n",
    "a = geek.identity(4)\n",
    "print(\"\\nMatrix a : \\n\", a)"
   ]
  },
  {
   "cell_type": "code",
   "execution_count": 57,
   "id": "d4f2efc5",
   "metadata": {},
   "outputs": [
    {
     "name": "stdout",
     "output_type": "stream",
     "text": [
      "Input array : \n",
      " [0, 1.5707963267948966, 1.0471975511965976, 3.141592653589793]\n",
      "\n",
      "Tangent Hyperbolic values : \n",
      " [0.         0.91715234 0.78071444 0.99627208]\n"
     ]
    }
   ],
   "source": [
    "# Python3 program explaining\n",
    "# tanh() function\n",
    "\n",
    "import numpy as np\n",
    "import math\n",
    "\n",
    "in_array = [0, math.pi / 2, np.pi / 3, np.pi]\n",
    "print (\"Input array : \\n\", in_array)\n",
    "\n",
    "tanh_Values = np.tanh(in_array)\n",
    "print (\"\\nTangent Hyperbolic values : \\n\", tanh_Values)"
   ]
  },
  {
   "cell_type": "code",
   "execution_count": 58,
   "id": "4fe0805a",
   "metadata": {},
   "outputs": [
    {
     "name": "stdout",
     "output_type": "stream",
     "text": [
      "INPUT ARRAY 1 : \n",
      " [nan, 4, 2, 3, 1]\n",
      "\n",
      "Indices of min in array1 :  4\n",
      "\n",
      "INPUT ARRAY 2 : \n",
      " [[nan  4.]\n",
      " [ 1.  3.]]\n",
      "\n",
      "Indices of min in array2 :  2\n",
      "\n",
      "Indices at axis 1 of array2 :  [1 0]\n"
     ]
    }
   ],
   "source": [
    "import numpy as geek \n",
    "\n",
    "# Working on 1D array\n",
    "array = [geek.nan, 4, 2, 3, 1]\n",
    "print(\"INPUT ARRAY 1 : \\n\", array)\n",
    "\n",
    "array2 = geek.array([[geek.nan, 4], [1, 3]])\n",
    "\n",
    "# returning Indices of the min element\n",
    "# as per the indices ingnoring NaN\n",
    "print(\"\\nIndices of min in array1 : \",\n",
    "      geek.nanargmin(array))\n",
    "\n",
    "# Working on 2D array\n",
    "print(\"\\nINPUT ARRAY 2 : \\n\", array2)\n",
    "print(\"\\nIndices of min in array2 : \",\n",
    "      geek.nanargmin(array2))\n",
    "\n",
    "print(\"\\nIndices at axis 1 of array2 : \",\n",
    "      geek.nanargmin(array2, axis = 1))"
   ]
  },
  {
   "cell_type": "code",
   "execution_count": null,
   "id": "643f0e94",
   "metadata": {},
   "outputs": [],
   "source": [
    "import numpy as np\n",
    "'''\n",
    "Question : \n",
    "\n",
    "What is the present value (e.g., the initial investment)\n",
    "of an investment that needs to total $15692.93 after 10\n",
    "years of saving $100 every month? \n",
    "Assume the interest rate is 5% (annually) compounded monthly.\n",
    "'''\n",
    "Solution = np.pv(0.05/12, 10*12, -100, 15692.93, when='end')\n",
    "\n",
    "print(\"present value (fv) : \", Solution)"
   ]
  },
  {
   "cell_type": "code",
   "execution_count": 62,
   "id": "c22804f5",
   "metadata": {},
   "outputs": [
    {
     "name": "stdout",
     "output_type": "stream",
     "text": [
      "Input array : \n",
      " [0, 1, 0.3, -1]\n",
      "\n",
      "Inverse Sine values : \n",
      " [ 0.          1.57079633  0.30469265 -1.57079633]\n"
     ]
    }
   ],
   "source": [
    "# arcsin() function\n",
    "\n",
    "import numpy as np\n",
    "\n",
    "in_array = [0, 1, 0.3, -1]\n",
    "print (\"Input array : \\n\", in_array)\n",
    "\n",
    "arcsin_Values = np.arcsin(in_array)\n",
    "print (\"\\nInverse Sine values : \\n\", arcsin_Values)"
   ]
  },
  {
   "cell_type": "code",
   "execution_count": 63,
   "id": "837c2f41",
   "metadata": {},
   "outputs": [
    {
     "name": "stdout",
     "output_type": "stream",
     "text": [
      "INPUT ARRAY 1 : \n",
      " [nan, 4, 2, 3, 1]\n",
      "\n",
      "Indices of max in array1 :  1\n",
      "\n",
      "INPUT ARRAY 2 : \n",
      " [[nan  4.]\n",
      " [ 1.  3.]]\n",
      "\n",
      "Indices of max in array2 :  1\n",
      "\n",
      "Indices at axis 1 of array2 :  [1 1]\n"
     ]
    }
   ],
   "source": [
    "import numpy as geek \n",
    "\n",
    "array = [geek.nan, 4, 2, 3, 1]\n",
    "print(\"INPUT ARRAY 1 : \\n\", array)\n",
    "\n",
    "array2 = geek.array([[geek.nan, 4], [1, 3]])\n",
    "\n",
    "print(\"\\nIndices of max in array1 : \", geek.nanargmax(array))\n",
    "\n",
    "print(\"\\nINPUT ARRAY 2 : \\n\", array2)\n",
    "print(\"\\nIndices of max in array2 : \", geek.nanargmax(array2))\n",
    "\n",
    "print(\"\\nIndices at axis 1 of array2 : \", geek.nanargmax(array2, axis = 1))"
   ]
  },
  {
   "cell_type": "code",
   "execution_count": 64,
   "id": "a1f4639c",
   "metadata": {},
   "outputs": [
    {
     "name": "stdout",
     "output_type": "stream",
     "text": [
      "arr1         :  [2, 2, 2, 2, 2]\n",
      "arr1         :  [2, 3, 4, 5, 6]\n",
      "\n",
      "Output array :  [ 4  8 16 32 64]\n"
     ]
    }
   ],
   "source": [
    "import numpy as np\n",
    "\n",
    "# input_array\n",
    "arr1 = [2, 2, 2, 2, 2]\n",
    "arr2 = [2, 3, 4, 5, 6]\n",
    "print (\"arr1         : \", arr1)\n",
    "print (\"arr1         : \", arr2)\n",
    "\n",
    "# output_array\n",
    "out = np.power(arr1, arr2)\n",
    "print (\"\\nOutput array : \", out)"
   ]
  },
  {
   "cell_type": "code",
   "execution_count": 65,
   "id": "d044c615",
   "metadata": {},
   "outputs": [
    {
     "name": "stdout",
     "output_type": "stream",
     "text": [
      "Input array : \n",
      " [0, 1, 0.3, -1]\n",
      "\n",
      "Inverse Cosine values : \n",
      " [1.57079633 0.         1.26610367 3.14159265]\n"
     ]
    }
   ],
   "source": [
    "# Python program explaining\n",
    "# arccos() function\n",
    "import numpy as np\n",
    "\n",
    "in_array = [0, 1, 0.3, -1]\n",
    "print (\"Input array : \\n\", in_array)\n",
    "\n",
    "arccos_Values = np.arccos(in_array)\n",
    "print (\"\\nInverse Cosine values : \\n\", arccos_Values)"
   ]
  },
  {
   "cell_type": "code",
   "execution_count": 66,
   "id": "7be45a06",
   "metadata": {},
   "outputs": [
    {
     "name": "stdout",
     "output_type": "stream",
     "text": [
      "arr :  [0 1 2 3 4 5 6 7]\n",
      "Max of arr :  7\n",
      "\n",
      "arr :  [[0 1 2 3 4]\n",
      " [5 6 7 8 9]]\n",
      "\n",
      "Max of arr, axis = None :  9\n",
      "Max of arr, axis = 0 :  [5 6 7 8 9]\n",
      "Max of arr, axis = 1 :  [4 9]\n"
     ]
    }
   ],
   "source": [
    "# Python Program illustrating\n",
    "# numpy.amax() method\n",
    "import numpy as geek\n",
    "# 1D array\n",
    "arr = geek.arange(8)\n",
    "print(\"arr : \", arr)\n",
    "print(\"Max of arr : \", geek.amax(arr))\n",
    "\n",
    "# 2D array\n",
    "arr = geek.arange(10).reshape(2, 5)\n",
    "print(\"\\narr : \", arr)\n",
    "\n",
    "# Maximum of the flattened array\n",
    "print(\"\\nMax of arr, axis = None : \", geek.amax(arr))\n",
    "\n",
    "print(\"Max of arr, axis = 0 : \", geek.amax(arr, axis = 0))\n",
    "\n",
    "print(\"Max of arr, axis = 1 : \", geek.amax(arr, axis = 1))"
   ]
  },
  {
   "cell_type": "code",
   "execution_count": 67,
   "id": "75096f8a",
   "metadata": {},
   "outputs": [
    {
     "name": "stdout",
     "output_type": "stream",
     "text": [
      "Original array : \n",
      " [[0 1]\n",
      " [2 3]\n",
      " [4 5]\n",
      " [6 7]\n",
      " [8 9]]\n",
      "\n",
      "Array Condition a : \n",
      " [[False  True]\n",
      " [ True  True]\n",
      " [False  True]\n",
      " [ True  True]\n",
      " [False  True]]\n",
      "\n",
      "Elements that satisfy condition a  : \n",
      " [1 2 3 5 6 7 9]\n",
      "\n",
      "Array Condition b : \n",
      " [[False False]\n",
      " [False False]\n",
      " [False  True]\n",
      " [False False]\n",
      " [False False]]\n",
      "\n",
      "Elements that satisfy condition b  : \n",
      " [5]\n"
     ]
    }
   ],
   "source": [
    "# Python Program illustrating\n",
    "# numpy.compress method\n",
    "import numpy as geek\n",
    "\n",
    "array = geek.arange(10).reshape(5, 2)\n",
    "print(\"Original array : \\n\", array)\n",
    "\n",
    "a = geek.mod(array, 4) !=0\n",
    "# This will show element status of satisfying condition\n",
    "print(\"\\nArray Condition a : \\n\", a)\n",
    "\n",
    "# This will return elements that satisfy condition \"a\" condition\n",
    "print(\"\\nElements that satisfy condition a  : \\n\", geek.extract(a, array))\n",
    "\n",
    "\n",
    "\n",
    "b = array - 4 == 1\n",
    "# This will show element status of satisfying condition\n",
    "print(\"\\nArray Condition b : \\n\", b)\n",
    "\n",
    "# This will return elements that satisfy condition \"b\" condition\n",
    "print(\"\\nElements that satisfy condition b  : \\n\", geek.extract(b, array))"
   ]
  },
  {
   "cell_type": "code",
   "execution_count": 68,
   "id": "dc6777c5",
   "metadata": {},
   "outputs": [
    {
     "name": "stdout",
     "output_type": "stream",
     "text": [
      "arr1 :  [2, 2, 2, 2, 2]\n",
      "arr2 :  [2, 3, 4, 5, 6]\n",
      "\n",
      "Output array :  [ 4.  8. 16. 32. 64.]\n"
     ]
    }
   ],
   "source": [
    "# Python program explaining\n",
    "import numpy as np\n",
    "\n",
    "# input_array\n",
    "arr1 = [2, 2, 2, 2, 2]\n",
    "arr2 = [2, 3, 4, 5, 6]\n",
    "print (\"arr1 : \", arr1)\n",
    "print (\"arr2 : \", arr2)\n",
    "\n",
    "# output_array\n",
    "out = np.float_power(arr1, arr2)\n",
    "print (\"\\nOutput array : \", out)"
   ]
  },
  {
   "cell_type": "code",
   "execution_count": 70,
   "id": "7ff23398",
   "metadata": {},
   "outputs": [
    {
     "name": "stdout",
     "output_type": "stream",
     "text": [
      "Input array :  [1, 3, 5]\n",
      "Output array :  [  2.71828183  20.08553692 148.4131591 ]\n"
     ]
    }
   ],
   "source": [
    "# Python program explaining\n",
    "# exp() function\n",
    "import numpy as np\n",
    "\n",
    "in_array = [1, 3, 5]\n",
    "print(\"Input array : \", in_array)\n",
    "\n",
    "out_array = np.exp(in_array)\n",
    "print(\"Output array : \", out_array)"
   ]
  },
  {
   "cell_type": "code",
   "execution_count": 71,
   "id": "9f5a5568",
   "metadata": {},
   "outputs": [
    {
     "name": "stdout",
     "output_type": "stream",
     "text": [
      "arr :  [[0 1 2 3 4]\n",
      " [5 6 7 8 9]]\n",
      "Min of arr :  0\n",
      "\n",
      "arr :  [[0 1 2 3 4]\n",
      " [5 6 7 8 9]]\n",
      "\n",
      "Min of arr, axis = None :  0\n",
      "Min of arr, axis = 0 :  [0 1 2 3 4]\n",
      "Min of arr, axis = 1 :  [0 5]\n"
     ]
    }
   ],
   "source": [
    "# Python Program illustrating\n",
    "# numpy.amin() method\n",
    "\n",
    "import numpy as geek\n",
    "\n",
    "# 1D array\n",
    "print(\"arr : \", arr)\n",
    "print(\"Min of arr : \", geek.amin(arr))\n",
    "\n",
    "# 2D array\n",
    "print(\"\\narr : \", arr)\n",
    "\n",
    "# Minimum of the flattened array\n",
    "print(\"\\nMin of arr, axis = None : \", geek.amin(arr))\n",
    "\n",
    "# Minimum along the first axis\n",
    "# axis 0 means vertical\n",
    "print(\"Min of arr, axis = 0 : \", geek.amin(arr, axis = 0))\n",
    "\n",
    "# Minimum along the second axis\n",
    "# axis 1 means horizontal\n",
    "print(\"Min of arr, axis = 1 : \", geek.amin(arr, axis = 1))\n"
   ]
  },
  {
   "cell_type": "code",
   "execution_count": 72,
   "id": "752b54ce",
   "metadata": {},
   "outputs": [
    {
     "name": "stdout",
     "output_type": "stream",
     "text": [
      "Original array : \n",
      " [[0 1]\n",
      " [2 3]\n",
      " [4 5]\n",
      " [6 7]\n",
      " [8 9]]\n",
      "\n",
      "Sliced array : \n",
      " [[2 3]]\n",
      "\n",
      "Sliced array : \n",
      " [[2 3]]\n"
     ]
    }
   ],
   "source": [
    "# Python Program illustrating\n",
    "# numpy.compress method\n",
    "import numpy as geek\n",
    "\n",
    "array = geek.arange(10).reshape(5, 2)\n",
    "print(\"Original array : \\n\", array)\n",
    "\n",
    "a = geek.compress([0, 1], array, axis=0)\n",
    "print(\"\\nSliced array : \\n\", a)\n",
    "\n",
    "a = geek.compress([False, True], array, axis=0)\n",
    "print(\"\\nSliced array : \\n\", a)"
   ]
  },
  {
   "cell_type": "code",
   "execution_count": 73,
   "id": "c47b7e6c",
   "metadata": {},
   "outputs": [
    {
     "name": "stdout",
     "output_type": "stream",
     "text": [
      "Input array :  [1, 3, 5, 256]\n",
      "Output array :  [0.         1.09861229 1.60943791 5.54517744]\n",
      "\n",
      "np.log(4**4) :  5.545177444479562\n",
      "np.log(2**8) :  5.545177444479562\n"
     ]
    }
   ],
   "source": [
    "# Python program explaining\n",
    "# log() function\n",
    "import numpy as np\n",
    "\n",
    "in_array = [1, 3, 5, 2**8]\n",
    "print(\"Input array : \", in_array)\n",
    "\n",
    "out_array = np.log(in_array)\n",
    "print(\"Output array : \", out_array)\n",
    "\n",
    "print(\"\\nnp.log(4**4) : \", np.log(4**4))\n",
    "print(\"np.log(2**8) : \", np.log(2**8))\n"
   ]
  },
  {
   "cell_type": "code",
   "execution_count": 74,
   "id": "ffaaa35c",
   "metadata": {},
   "outputs": [
    {
     "name": "stdout",
     "output_type": "stream",
     "text": [
      "Input array : \n",
      " [1, 3, 5, 4]\n",
      "\n",
      "2**x values : \n",
      " [ 2.  8. 32. 16.]\n"
     ]
    }
   ],
   "source": [
    "# Python program explaining\n",
    "# exp2() function\n",
    "import numpy as np\n",
    "\n",
    "in_array = [1, 3, 5, 4]\n",
    "print (\"Input array : \\n\", in_array)\n",
    "\n",
    "exp2_values = np.exp2(in_array)\n",
    "print (\"\\n2**x values : \\n\", exp2_values)"
   ]
  },
  {
   "cell_type": "code",
   "execution_count": 75,
   "id": "f8fd0b01",
   "metadata": {},
   "outputs": [
    {
     "name": "stdout",
     "output_type": "stream",
     "text": [
      "1D arr : \n",
      " [0 1 2 3 4]\n",
      "Shape :  (5,)\n",
      "\n",
      "Array after insertion :  [0 9 1 2 3 4]\n",
      "Shape :  (6,)\n",
      "\n",
      "\n",
      "2D arr : \n",
      " [[ 0  1  2  3]\n",
      " [ 4  5  6  7]\n",
      " [ 8  9 10 11]]\n",
      "Shape :  (3, 4)\n",
      "\n",
      "Array after insertion : \n",
      " [[ 0  9  1  2  3]\n",
      " [ 4  9  5  6  7]\n",
      " [ 8  9  9 10 11]]\n",
      "Shape :  (3, 5)\n"
     ]
    }
   ],
   "source": [
    "\n",
    "import numpy as geek\n",
    "\n",
    "#Working on 1D\n",
    "arr = geek.arange(5)\n",
    "print(\"1D arr : \\n\", arr)\n",
    "print(\"Shape : \", arr.shape)\n",
    "\n",
    "# value = 9\n",
    "# index = 1   \n",
    "# Insertion before first index\n",
    "a = geek.insert(arr, 1, 9)\n",
    "print(\"\\nArray after insertion : \", a)\n",
    "print(\"Shape : \", a.shape)\n",
    "\n",
    "\n",
    "# Working on 2D array \n",
    "arr = geek.arange(12).reshape(3, 4)\n",
    "print(\"\\n\\n2D arr : \\n\", arr)\n",
    "print(\"Shape : \", arr.shape)\n",
    "\n",
    "a = geek.insert(arr, 1, 9, axis = 1)\n",
    "print(\"\\nArray after insertion : \\n\", a)\n",
    "print(\"Shape : \", a.shape)"
   ]
  },
  {
   "cell_type": "code",
   "execution_count": 76,
   "id": "3cb5fcb6",
   "metadata": {},
   "outputs": [
    {
     "name": "stdout",
     "output_type": "stream",
     "text": [
      "Original array : \n",
      " [[ 0  1  2  3]\n",
      " [ 4  5  6  7]\n",
      " [ 8  9 10 11]]\n",
      "\n",
      "Array being rotated 4 times : \n",
      " [[ 0  1  2  3]\n",
      " [ 4  5  6  7]\n",
      " [ 8  9 10 11]]\n",
      "\n",
      "Rotated array : \n",
      " [[ 3  7 11]\n",
      " [ 2  6 10]\n",
      " [ 1  5  9]\n",
      " [ 0  4  8]]\n",
      "\n",
      "Rotated array : \n",
      " [[11 10  9  8]\n",
      " [ 7  6  5  4]\n",
      " [ 3  2  1  0]]\n"
     ]
    }
   ],
   "source": [
    "import numpy as geek\n",
    "\n",
    "array = geek.arange(12).reshape(3, 4)\n",
    "print(\"Original array : \\n\", array)\n",
    "\n",
    "# Rotating array 4 times : Returns same original array\n",
    "print(\"\\nArray being rotated 4 times : \\n\", geek.rot90(array, 4))\n",
    "\n",
    "# Rotating once\n",
    "print(\"\\nRotated array : \\n\", geek.rot90(array))\n",
    "\n",
    "# Rotating twice\n",
    "print(\"\\nRotated array : \\n\", geek.rot90(array, 2))"
   ]
  },
  {
   "cell_type": "code",
   "execution_count": 77,
   "id": "91237a70",
   "metadata": {},
   "outputs": [
    {
     "name": "stdout",
     "output_type": "stream",
     "text": [
      "Input array :  [1, 3, 5]\n",
      "Output array :  [0.69314718 1.38629436 1.79175947]\n"
     ]
    }
   ],
   "source": [
    "# Python program explaining\n",
    "# log1p() function\n",
    "import numpy as np\n",
    "\n",
    "in_array = [1, 3, 5]\n",
    "print (\"Input array : \", in_array)\n",
    "\n",
    "out_array = np.log1p(in_array)\n",
    "print (\"Output array : \", out_array)"
   ]
  },
  {
   "cell_type": "code",
   "execution_count": 78,
   "id": "88e0880a",
   "metadata": {},
   "outputs": [
    {
     "name": "stdout",
     "output_type": "stream",
     "text": [
      "Input array : \n",
      " [0.5, 1.5, 2.5, 3.5, 4.5, 10.1]\n",
      "\n",
      "Rounded values : \n",
      " [ 0.  1.  2.  3.  4. 10.]\n",
      "\n",
      "Input array : \n",
      " [0.53, 1.54, 0.71]\n",
      "\n",
      "Rounded values : \n",
      " [0. 1. 0.]\n",
      "\n",
      "Input array : \n",
      " [0.5538, 1.33354, 0.71445]\n",
      "\n",
      "Rounded values : \n",
      " [0. 1. 0.]\n"
     ]
    }
   ],
   "source": [
    "# Python program explaining\n",
    "# fix() function\n",
    "\n",
    "import numpy as np\n",
    "\n",
    "in_array = [.5, 1.5, 2.5, 3.5, 4.5, 10.1]\n",
    "print (\"Input array : \\n\", in_array)\n",
    "\n",
    "fixoff_values = np.fix(in_array)\n",
    "print (\"\\nRounded values : \\n\", fixoff_values)\n",
    "\n",
    "\n",
    "in_array = [.53, 1.54, .71]\n",
    "print (\"\\nInput array : \\n\", in_array)\n",
    "\n",
    "fixoff_values = np.fix(in_array)\n",
    "print (\"\\nRounded values : \\n\", fixoff_values)\n",
    "\n",
    "in_array = [.5538, 1.33354, .71445]\n",
    "print (\"\\nInput array : \\n\", in_array)\n",
    "\n",
    "fixoff_values = np.fix(in_array)\n",
    "print (\"\\nRounded values : \\n\", fixoff_values)"
   ]
  },
  {
   "cell_type": "code",
   "execution_count": 79,
   "id": "e428c1f6",
   "metadata": {},
   "outputs": [
    {
     "name": "stdout",
     "output_type": "stream",
     "text": [
      "arr : \n",
      " [0 1 2 3 4]\n",
      "Shape :  (5,)\n",
      "\n",
      "deleteing 2 from array : \n",
      " [0 1 3 4]\n",
      "Shape :  (4,)\n",
      "\n",
      "deleteing [1, 2] from array : \n",
      " [0 1 3 4]\n",
      "Shape :  (4,)\n"
     ]
    }
   ],
   "source": [
    "# Python Program illustrating\n",
    "# numpy.delete()\n",
    "\n",
    "import numpy as geek\n",
    "\n",
    "#Working on 1D\n",
    "arr = geek.arange(5)\n",
    "print(\"arr : \\n\", arr)\n",
    "print(\"Shape : \", arr.shape)\n",
    "\n",
    "# deletion from 1D array \n",
    "\n",
    "object = 2\n",
    "a = geek.delete(arr, object)\n",
    "print(\"\\ndeleteing {} from array : \\n {}\".format(object,a))\n",
    "print(\"Shape : \", a.shape)\n",
    "\n",
    "object = [1, 2]\n",
    "b = geek.delete(arr, object)\n",
    "print(\"\\ndeleteing {} from array : \\n {}\".format(object,a))\n",
    "print(\"Shape : \", a.shape)"
   ]
  },
  {
   "cell_type": "code",
   "execution_count": 80,
   "id": "619976cc",
   "metadata": {},
   "outputs": [
    {
     "name": "stdout",
     "output_type": "stream",
     "text": [
      "arr : \n",
      " [0 1 2 3 4]\n",
      "Repeating arr 2 times : \n",
      " [0 1 2 3 4 0 1 2 3 4]\n",
      "\n",
      "Repeating arr 3 times : \n",
      " [0 1 2 3 4 0 1 2 3 4 0 1 2 3 4]\n"
     ]
    }
   ],
   "source": [
    "# Python Program illustrating\n",
    "# numpy.tile()\n",
    "\n",
    "import numpy as geek\n",
    "\n",
    "#Working on 1D\n",
    "arr = geek.arange(5)\n",
    "print(\"arr : \\n\", arr)\n",
    "\n",
    "repetitions = 2\n",
    "print(\"Repeating arr 2 times : \\n\", geek.tile(arr, repetitions))\n",
    "\n",
    "repetitions = 3\n",
    "print(\"\\nRepeating arr 3 times : \\n\", geek.tile(arr, repetitions))\n",
    "# [0 1 2 ..., 2 3 4] means [0 1 2 3 4 0 1 2 3 4 0 1 2 3 4]\n",
    "# since it was long output, so it uses [ ... ]"
   ]
  },
  {
   "cell_type": "code",
   "execution_count": 81,
   "id": "ac6fab06",
   "metadata": {},
   "outputs": [
    {
     "name": "stdout",
     "output_type": "stream",
     "text": [
      "Input array :  [1, 3, 5, 256]\n",
      "Output array :  [0.         1.5849625  2.32192809 8.        ]\n",
      "\n",
      "np.log2(4**4) :  8.0\n",
      "np.log2(2**8) :  8.0\n"
     ]
    }
   ],
   "source": [
    "# Python program explaining\n",
    "# log2() function\n",
    "import numpy as np\n",
    "\n",
    "in_array = [1, 3, 5, 2**8]\n",
    "print (\"Input array : \", in_array)\n",
    "\n",
    "out_array = np.log2(in_array)\n",
    "print (\"Output array : \", out_array)\n",
    "\n",
    "\n",
    "print(\"\\nnp.log2(4**4) : \", np.log2(4**4))\n",
    "print(\"np.log2(2**8) : \", np.log2(2**8))"
   ]
  },
  {
   "cell_type": "code",
   "execution_count": 82,
   "id": "d11eae3d",
   "metadata": {},
   "outputs": [
    {
     "name": "stdout",
     "output_type": "stream",
     "text": [
      "Output Array :  [ True  True  True  True]\n"
     ]
    }
   ],
   "source": [
    "# Python program explaining\n",
    "# logical_or() function\n",
    "import numpy as np\n",
    "\n",
    "# input\n",
    "arr1 = [1, 3, False, 4]\n",
    "arr2 = [3, 0, True, False]\n",
    "\n",
    "# output\n",
    "out_arr = np.logical_or(arr1, arr2)\n",
    "\n",
    "print (\"Output Array : \", out_arr)"
   ]
  },
  {
   "cell_type": "code",
   "execution_count": 83,
   "id": "c938678e",
   "metadata": {},
   "outputs": [
    {
     "name": "stdout",
     "output_type": "stream",
     "text": [
      "1D arr1 : [0 1 2 3 4]\n",
      "Shape: (5,)\n",
      "1D arr2 : [ 8  9 10 11]\n",
      "Shape : (4,)\n",
      "Appended arr3: [ 0  1  2  3  4  8  9 10 11]\n"
     ]
    }
   ],
   "source": [
    "import numpy as geek\n",
    "\n",
    "arr1 = geek.arange(5)\n",
    "print(\"1D arr1 :\", arr1)\n",
    "print(\"Shape:\", arr1.shape)\n",
    "\n",
    "arr2 = geek.arange(8, 12)\n",
    "print(\"1D arr2 :\", arr2)\n",
    "print(\"Shape :\", arr2.shape)\n",
    "\n",
    "arr3 = geek.append(arr1, arr2)\n",
    "print(\"Appended arr3:\", arr3)"
   ]
  },
  {
   "cell_type": "code",
   "execution_count": 84,
   "id": "710869ce",
   "metadata": {},
   "outputs": [
    {
     "name": "stdout",
     "output_type": "stream",
     "text": [
      "[[1 2 3]\n",
      " [4 5 6]]\n"
     ]
    }
   ],
   "source": [
    "import numpy as np\n",
    "\n",
    "# Creating a 1D NumPy array \n",
    "arr = np.array([1, 2, 3, 4, 5, 6])\n",
    "\n",
    "# Reshaping the 1D array into a 2D array with 2 rows and 3 columns\n",
    "reshaped_arr = np.reshape(arr, (2, 3))\n",
    "print(reshaped_arr)"
   ]
  },
  {
   "cell_type": "code",
   "execution_count": 85,
   "id": "5957d5e3",
   "metadata": {},
   "outputs": [
    {
     "name": "stdout",
     "output_type": "stream",
     "text": [
      "Input array :  [1, 3, 5, 100000000]\n",
      "Output array :  [0.         0.47712125 0.69897    8.        ]\n",
      "\n",
      "np.log10(4**4) :  8.0\n",
      "np.log10(2**8) :  8.0\n"
     ]
    }
   ],
   "source": [
    "# Python program explaining\n",
    "# log10() function\n",
    "\n",
    "import numpy as np\n",
    "\n",
    "in_array = [1, 3, 5, 10**8]\n",
    "print (\"Input array : \", in_array)\n",
    "\n",
    "out_array = np.log10(in_array)\n",
    "print (\"Output array : \", out_array)\n",
    "\n",
    "\n",
    "print(\"\\nnp.log10(4**4) : \", np.log10(100**4))\n",
    "print(\"np.log10(2**8) : \", np.log10(10**8))"
   ]
  },
  {
   "cell_type": "code",
   "execution_count": 86,
   "id": "47653426",
   "metadata": {},
   "outputs": [
    {
     "name": "stdout",
     "output_type": "stream",
     "text": [
      "Output Array :  [ True False False False]\n"
     ]
    }
   ],
   "source": [
    "# Python program explaining\n",
    "# logical_and() function\n",
    "import numpy as np\n",
    "\n",
    "# input\n",
    "arr1 = [1, 3, False, 4]\n",
    "arr2 = [3, 0, True, False]\n",
    "\n",
    "# output\n",
    "out_arr = np.logical_and(arr1, arr2)\n",
    "\n",
    "print (\"Output Array : \", out_arr)"
   ]
  },
  {
   "cell_type": "code",
   "execution_count": 87,
   "id": "88d907e8",
   "metadata": {},
   "outputs": [
    {
     "name": "stdout",
     "output_type": "stream",
     "text": [
      "[1. 2. 4. 4.]\n"
     ]
    }
   ],
   "source": [
    "import numpy as np\n",
    "a = np.array([1.2, 2.5, 3.7, 4.4])\n",
    "res = np.around(a)\n",
    "print(res)"
   ]
  },
  {
   "cell_type": "code",
   "execution_count": 88,
   "id": "7ac5cc65",
   "metadata": {},
   "outputs": [
    {
     "name": "stdout",
     "output_type": "stream",
     "text": [
      "Original array : \n",
      " [[ 0  1  2  3  4]\n",
      " [ 5  6  7  8  9]\n",
      " [10 11 12 13 14]]\n",
      "\n",
      "ravel() :  [ 0  1  2  3  4  5  6  7  8  9 10 11 12 13 14]\n",
      "\n",
      "numpy.ravel() == numpy.reshape(-1)\n",
      "Reshaping array :  [ 0  1  2  3  4  5  6  7  8  9 10 11 12 13 14]\n"
     ]
    }
   ],
   "source": [
    "# Python Program illustrating\n",
    "# numpy.ravel() method\n",
    "\n",
    "import numpy as geek\n",
    "\n",
    "array = geek.arange(15).reshape(3, 5)\n",
    "print(\"Original array : \\n\", array)\n",
    "\n",
    "# Output comes like [ 0  1  2 ..., 12 13 14]\n",
    "# as it is a long output, so it is the way of\n",
    "# showing output in Python\n",
    "print(\"\\nravel() : \", array.ravel())\n",
    "\n",
    "# This shows array.ravel is equivalent to reshape(-1, order=order).\n",
    "print(\"\\nnumpy.ravel() == numpy.reshape(-1)\")\n",
    "print(\"Reshaping array : \", array.reshape(-1))"
   ]
  },
  {
   "cell_type": "code",
   "execution_count": 89,
   "id": "201b0e0f",
   "metadata": {},
   "outputs": [
    {
     "name": "stdout",
     "output_type": "stream",
     "text": [
      "Output Array 1 :  [False False  True False]\n",
      "Output Array 2 :  [False  True False  True]\n"
     ]
    }
   ],
   "source": [
    "# Python program explaining\n",
    "# logical_not() function\n",
    "import numpy as np\n",
    "\n",
    "# input\n",
    "arr1 = [1, 3, False, 4]\n",
    "arr2 = [3, 0, True, False]\n",
    "\n",
    "# output\n",
    "out_arr1 = np.logical_not(arr1)\n",
    "out_arr2 = np.logical_not(arr2)\n",
    "\n",
    "print (\"Output Array 1 : \", out_arr1)\n",
    "print (\"Output Array 2 : \", out_arr2)"
   ]
  },
  {
   "cell_type": "code",
   "execution_count": 90,
   "id": "47f28324",
   "metadata": {},
   "outputs": [
    {
     "name": "stdout",
     "output_type": "stream",
     "text": [
      "Original array : \n",
      " [[[0 1]\n",
      "  [2 3]]\n",
      "\n",
      " [[4 5]\n",
      "  [6 7]]]\n",
      "Flipped array : \n",
      " [[[4 5]\n",
      "  [6 7]]\n",
      "\n",
      " [[0 1]\n",
      "  [2 3]]]\n"
     ]
    }
   ],
   "source": [
    "# Python Program illustrating\n",
    "# numpy.flip() method\n",
    "\n",
    "import numpy as geek\n",
    "\n",
    "array = geek.arange(8).reshape((2,2,2))\n",
    "print(\"Original array : \\n\", array)\n",
    "\n",
    "print(\"Flipped array : \\n\", geek.flip(array, 0))"
   ]
  },
  {
   "cell_type": "code",
   "execution_count": 91,
   "id": "4af5bb63",
   "metadata": {},
   "outputs": [
    {
     "name": "stdout",
     "output_type": "stream",
     "text": [
      "[False  True  True False False]\n"
     ]
    }
   ],
   "source": [
    "import numpy as np\n",
    "a = np.array([1, np.inf, -np.inf, 0, np.nan])\n",
    "res = np.isinf(a)\n",
    "print(res)"
   ]
  },
  {
   "cell_type": "code",
   "execution_count": 92,
   "id": "ab7aadd5",
   "metadata": {},
   "outputs": [
    {
     "name": "stdout",
     "output_type": "stream",
     "text": [
      "Dot Product  :  (23-2j)\n"
     ]
    }
   ],
   "source": [
    "# Python Program illustrating\n",
    "# numpy.vdot() method\n",
    "\n",
    "import numpy as geek\n",
    "\n",
    "# 1D array\n",
    "vector_a = 2 + 3j\n",
    "vector_b = 4 + 5j\n",
    "\n",
    "product = geek.vdot(vector_a, vector_b)\n",
    "print(\"Dot Product  : \", product)"
   ]
  },
  {
   "cell_type": "code",
   "execution_count": 93,
   "id": "abb1f717",
   "metadata": {},
   "outputs": [
    {
     "name": "stdout",
     "output_type": "stream",
     "text": [
      "Output Array :  [False  True  True False]\n"
     ]
    }
   ],
   "source": [
    "import numpy as np\n",
    "\n",
    "# input\n",
    "arr1 = [1, 3, False, 0]\n",
    "arr2 = [3, 0, True, False]\n",
    "\n",
    "# output\n",
    "out_arr = np.logical_xor(arr1, arr2)\n",
    "\n",
    "print (\"Output Array : \", out_arr)"
   ]
  },
  {
   "cell_type": "code",
   "execution_count": 94,
   "id": "b880c8d0",
   "metadata": {},
   "outputs": [
    {
     "name": "stdout",
     "output_type": "stream",
     "text": [
      "Original array : \n",
      " [[[0 1]\n",
      "  [2 3]]\n",
      "\n",
      " [[4 5]\n",
      "  [6 7]]]\n",
      "\n",
      "Flipped array left-right : \n",
      " [[[2 3]\n",
      "  [0 1]]\n",
      "\n",
      " [[6 7]\n",
      "  [4 5]]]\n"
     ]
    }
   ],
   "source": [
    "import numpy as geek\n",
    "\n",
    "array = geek.arange(8).reshape((2,2,2))\n",
    "print(\"Original array : \\n\", array)\n",
    "\n",
    "# fliplr : means flip left-right\n",
    "print(\"\\nFlipped array left-right : \\n\", geek.fliplr(array))"
   ]
  },
  {
   "cell_type": "code",
   "execution_count": 95,
   "id": "51b12dcc",
   "metadata": {},
   "outputs": [
    {
     "name": "stdout",
     "output_type": "stream",
     "text": [
      "Input array :  [1, 3, 5, 4]\n",
      "\n",
      "Is real :  True\n"
     ]
    }
   ],
   "source": [
    "# Python program explaining\n",
    "import numpy as np\n",
    "\n",
    "in_array = [1, 3, 5, 4]\n",
    "print (\"Input array : \", in_array)\n",
    "\n",
    "output_value = np.isrealobj(in_array)\n",
    "print (\"\\nIs real : \", output_value)"
   ]
  },
  {
   "cell_type": "code",
   "execution_count": 96,
   "id": "43d26d2e",
   "metadata": {},
   "outputs": [
    {
     "name": "stdout",
     "output_type": "stream",
     "text": [
      "Input array : \n",
      " [0.5, 1.5, 2.5, 3.5, 4.5, 10.1]\n",
      "\n",
      "Rounded values : \n",
      " [ 0.  1.  2.  3.  4. 10.]\n",
      "\n",
      "Input array : \n",
      " [0.53, 1.54, 0.71]\n",
      "\n",
      "Rounded values : \n",
      " [0. 1. 0.]\n",
      "\n",
      "Input array : \n",
      " [0.5538, 1.33354, 0.71445]\n",
      "\n",
      "Rounded values : \n",
      " [0. 1. 0.]\n"
     ]
    }
   ],
   "source": [
    "\n",
    "import numpy as np\n",
    "\n",
    "in_array = [.5, 1.5, 2.5, 3.5, 4.5, 10.1]\n",
    "print (\"Input array : \\n\", in_array)\n",
    "\n",
    "truncoff_values = np.trunc(in_array)\n",
    "print (\"\\nRounded values : \\n\", truncoff_values)\n",
    "\n",
    "\n",
    "in_array = [.53, 1.54, .71]\n",
    "print (\"\\nInput array : \\n\", in_array)\n",
    "\n",
    "truncoff_values = np.trunc(in_array)\n",
    "print (\"\\nRounded values : \\n\", truncoff_values)\n",
    "\n",
    "in_array = [.5538, 1.33354, .71445]\n",
    "print (\"\\nInput array : \\n\", in_array)\n",
    "\n",
    "truncoff_values = np.trunc(in_array)\n",
    "print (\"\\nRounded values : \\n\", truncoff_values)"
   ]
  },
  {
   "cell_type": "code",
   "execution_count": 97,
   "id": "b5e1530e",
   "metadata": {},
   "outputs": [
    {
     "name": "stdout",
     "output_type": "stream",
     "text": [
      "arr1 :  [0 1 2 3]\n",
      "arr2 :  [7, 4, 6, 7]\n",
      "\n",
      "Result :  False\n",
      "\n",
      "\n",
      "arr1 :  [0 1 2 3]\n",
      "arr2 :  [0 1 2 3]\n",
      "\n",
      "Result :  True\n",
      "\n",
      "\n",
      "arr1 :  [0 1 2 3]\n",
      "arr2 :  [0 1 2 3 4]\n",
      "\n",
      "Result :  False\n"
     ]
    }
   ],
   "source": [
    "# Python program explaining\n",
    "# array_equal() function\n",
    "import numpy as np\n",
    "\n",
    "# input\n",
    "arr1 = np.arange(4)\n",
    "arr2 = [7, 4, 6, 7]\n",
    "print (\"arr1 : \", arr1)\n",
    "print (\"arr2 : \", arr2)\n",
    "\n",
    "print (\"\\nResult : \", np.array_equal(arr1, arr2))\n",
    "\n",
    "arr1 = np.arange(4)\n",
    "arr2 = np.arange(4)\n",
    "print (\"\\n\\narr1 : \", arr1)\n",
    "print (\"arr2 : \", arr2)\n",
    "\n",
    "print (\"\\nResult : \", np.array_equal(arr1, arr2))\n",
    "\n",
    "arr1 = np.arange(4)\n",
    "arr2 = np.arange(5)\n",
    "print (\"\\n\\narr1 : \", arr1)\n",
    "print (\"arr2 : \", arr2)\n",
    "\n",
    "print (\"\\nResult : \", np.array_equal(arr1, arr2))"
   ]
  },
  {
   "cell_type": "code",
   "execution_count": 98,
   "id": "536052f6",
   "metadata": {},
   "outputs": [
    {
     "name": "stdout",
     "output_type": "stream",
     "text": [
      "Original array : \n",
      " [[[0 1]\n",
      "  [2 3]]\n",
      "\n",
      " [[4 5]\n",
      "  [6 7]]]\n",
      "\n",
      "Flipped array : \n",
      " [[[4 5]\n",
      "  [6 7]]\n",
      "\n",
      " [[0 1]\n",
      "  [2 3]]]\n"
     ]
    }
   ],
   "source": [
    "# Python Program illustrating\n",
    "# numpy.flipud() method\n",
    "\n",
    "import numpy as geek\n",
    "\n",
    "array = geek.arange(8).reshape((2,2,2))\n",
    "print(\"Original array : \\n\", array)\n",
    "\n",
    "# flipud : means flip up-down\n",
    "print(\"\\nFlipped array : \\n\", geek.flipud(array))"
   ]
  },
  {
   "cell_type": "code",
   "execution_count": 99,
   "id": "e82124a3",
   "metadata": {},
   "outputs": [
    {
     "name": "stdout",
     "output_type": "stream",
     "text": [
      "Input array: [1, 3, 5, 4]\n",
      "\n",
      "Is scalar: False\n",
      "\n",
      "isscalar(7): True\n",
      "\n",
      "isscalar([7]): False\n"
     ]
    }
   ],
   "source": [
    "# Python program explaining\n",
    "# isscalar() function\n",
    "import numpy as np\n",
    "\n",
    "# Input array\n",
    "in_array = [1, 3, 5, 4]\n",
    "print(\"Input array:\", in_array)\n",
    "\n",
    "# Check if the input array is a scalar\n",
    "isscalar_values = np.isscalar(in_array)\n",
    "print(\"\\nIs scalar:\", isscalar_values)\n",
    "\n",
    "# Check if the input is a scalar (integer)\n",
    "print(\"\\nisscalar(7):\", np.isscalar(7))\n",
    "\n",
    "# Check if the input (list) is a scalar\n",
    "print(\"\\nisscalar([7]):\", np.isscalar([7]))"
   ]
  },
  {
   "cell_type": "code",
   "execution_count": 100,
   "id": "03f52e95",
   "metadata": {},
   "outputs": [
    {
     "name": "stdout",
     "output_type": "stream",
     "text": [
      "arr1         :  [2, 27, 2, 21, 23]\n",
      "arr2         :  [2, 3, 4, 5, 6]\n",
      "\n",
      "Output array : \n",
      " [1.         9.         0.5        4.2        3.83333333]\n"
     ]
    }
   ],
   "source": [
    "# Python program explaining\n",
    "# divide() function\n",
    "import numpy as np\n",
    "\n",
    "# input_array\n",
    "arr1 = [2, 27, 2, 21, 23]\n",
    "arr2 = [2, 3, 4, 5, 6]\n",
    "print (\"arr1         : \", arr1)\n",
    "print (\"arr2         : \", arr2)\n",
    "\n",
    "# output_array\n",
    "out = np.divide(arr1, arr2)\n",
    "print (\"\\nOutput array : \\n\", out)"
   ]
  },
  {
   "cell_type": "code",
   "execution_count": 101,
   "id": "59be39b0",
   "metadata": {},
   "outputs": [
    {
     "name": "stdout",
     "output_type": "stream",
     "text": [
      "arr1 :  [0 1 2 3]\n",
      "arr2 :  [7, 4, 6, 7]\n",
      "\n",
      "Result :  False\n",
      "\n",
      "\n",
      "arr1 :  [0 1 2 3]\n",
      "arr2 :  [0 1 2 3]\n",
      "\n",
      "Result :  True\n",
      "\n",
      "\n",
      "arr1 :  [0 1 2 3]\n",
      "arr2 :  [0 1 2 3 4]\n",
      "\n",
      "Result :  False\n",
      "\n",
      "\n",
      "a :  False\n",
      "\n",
      "b :  True\n"
     ]
    }
   ],
   "source": [
    "# Python program explaining\n",
    "# array_equiv() function\n",
    "import numpy as np\n",
    "\n",
    "# input\n",
    "arr1 = np.arange(4)\n",
    "arr2 = [7, 4, 6, 7]\n",
    "print (\"arr1 : \", arr1)\n",
    "print (\"arr2 : \", arr2)\n",
    "\n",
    "print (\"\\nResult : \", np.array_equiv(arr1, arr2))\n",
    "\n",
    "arr1 = np.arange(4)\n",
    "arr2 = np.arange(4)\n",
    "print (\"\\n\\narr1 : \", arr1)\n",
    "print (\"arr2 : \", arr2)\n",
    "\n",
    "print (\"\\nResult : \", np.array_equiv(arr1, arr2))\n",
    "\n",
    "arr1 = np.arange(4)\n",
    "arr2 = np.arange(5)\n",
    "print (\"\\n\\narr1 : \", arr1)\n",
    "print (\"arr2 : \", arr2)\n",
    "\n",
    "print (\"\\nResult : \", np.array_equiv(arr1, arr2))\n",
    "\n",
    "\n",
    "a = np.array_equiv([1, 2], [[1, 2, 1, 2], [1, 2, 1, 2]])\n",
    "\n",
    "b = np.array_equiv([1, 2], [[1, 2], [1, 2]])\n",
    "\n",
    "print (\"\\n\\na : \", a)\n",
    "print (\"\\nb : \", b)"
   ]
  },
  {
   "cell_type": "code",
   "execution_count": 102,
   "id": "dcbdb6f2",
   "metadata": {},
   "outputs": [
    {
     "name": "stdout",
     "output_type": "stream",
     "text": [
      "Main Diagonal elements : \n",
      " [[  1  21  30]\n",
      " [  0 434   3]\n",
      " [  0   0  56]] \n",
      "\n",
      "Diagonal above main Diagonal elements : \n",
      " [[ 0 21 30]\n",
      " [ 0  0  3]\n",
      " [ 0  0  0]] \n",
      "\n",
      "\n",
      "Main Diagonal elements : \n",
      " [[  1  21  30]\n",
      " [ 63 434   3]\n",
      " [  0  54  56]]\n"
     ]
    }
   ],
   "source": [
    "# Python Programming illustrating\n",
    "# numpy. triu method\n",
    "\n",
    "import numpy as geek\n",
    "\n",
    "# string input\n",
    "a = geek.matrix([[1, 21, 30], \n",
    "                 [63 ,434, 3], \n",
    "                 [54, 54, 56]])\n",
    "\n",
    "print(\"Main Diagonal elements : \\n\", geek. triu(a), \"\\n\")\n",
    "\n",
    "print(\"Diagonal above main Diagonal elements : \\n\", geek. triu(a, 1), \"\\n\\n\")\n",
    "\n",
    "print(\"Main Diagonal elements : \\n\", geek. triu(a, -1))"
   ]
  },
  {
   "cell_type": "code",
   "execution_count": 104,
   "id": "cc99835b",
   "metadata": {},
   "outputs": [
    {
     "name": "stdout",
     "output_type": "stream",
     "text": [
      "Negative :  False \n",
      "\n",
      "Negative :  False \n",
      "\n",
      "Negative :  False \n",
      "\n",
      "Negative :  False \n",
      "\n",
      "Checking for negativity :  [1 0 0]\n"
     ]
    }
   ],
   "source": [
    "# Python Program illustrating\n",
    "# numpy.isneginf() method\n",
    " \n",
    "import numpy as geek \n",
    "\n",
    "print(\"Negative : \", geek.isneginf(1), \"\\n\")\n",
    "\n",
    "print(\"Negative : \", geek.isneginf(0), \"\\n\")\n",
    "\n",
    "# not a number\n",
    "print(\"Negative : \", geek.isneginf(geek.nan), \"\\n\")\n",
    "\n",
    "#  infinity\n",
    "print(\"Negative : \", geek.isneginf(geek.inf), \"\\n\")\n",
    "\n",
    "x = geek.array([-geek.inf, 0., geek.inf])\n",
    "y = geek.array([2, 2, 2])\n",
    "print(\"Checking for negativity : \", geek.isneginf(x, y))"
   ]
  },
  {
   "cell_type": "code",
   "execution_count": 107,
   "id": "058524c0",
   "metadata": {},
   "outputs": [
    {
     "name": "stdout",
     "output_type": "stream",
     "text": [
      "\n",
      " [[ 0  1  2  3  4  5]\n",
      " [ 6  7  8  9 10 11]\n",
      " [12 13 14 15 16 17]]\n",
      "\n",
      "Is Negative Infinity : \n",
      " [[False False False False False False]\n",
      " [False False False False False False]\n",
      " [False False False False False False]]\n",
      "\n",
      "Is Negative Infinity : \n",
      " [[False False False False False False]\n",
      " [False False False False False False]\n",
      " [False False False False False False]]\n"
     ]
    }
   ],
   "source": [
    "import numpy as geek \n",
    " \n",
    "# Returns True/False value for each element \n",
    "b = geek.arange(18).reshape(3, 6)\n",
    "               \n",
    "print(\"\\n\",b)\n",
    "print(\"\\nIs Negative Infinity : \\n\", geek.isneginf(b))\n",
    "\n",
    "# geek.inf  : Positive Infinity\n",
    "# geek.NINF : negative Infinity\n",
    "print(\"\\nIs Negative Infinity : \\n\", geek.isneginf(b))"
   ]
  },
  {
   "cell_type": "code",
   "execution_count": 108,
   "id": "28a55b57",
   "metadata": {},
   "outputs": [
    {
     "name": "stdout",
     "output_type": "stream",
     "text": [
      "arr1         :  [2, 2, 2, 2, 2]\n",
      "arr1         :  [2, 3, 4, 5, 6]\n",
      "\n",
      "Output array :  [1 0 0 0 0]\n"
     ]
    }
   ],
   "source": [
    "# Python program explaining \n",
    "# floor_divide() function \n",
    "import numpy as np \n",
    "\n",
    "# input_array \n",
    "arr1 = [2, 2, 2, 2, 2] \n",
    "arr2 = [2, 3, 4, 5, 6] \n",
    "print (\"arr1         : \", arr1) \n",
    "print (\"arr1         : \", arr2) \n",
    "\n",
    "# output_array \n",
    "out = np.floor_divide(arr1, arr2) \n",
    "print (\"\\nOutput array : \", out)"
   ]
  },
  {
   "cell_type": "code",
   "execution_count": 109,
   "id": "e2dd7b5e",
   "metadata": {},
   "outputs": [
    {
     "name": "stdout",
     "output_type": "stream",
     "text": [
      "x-coordinates :  [-1, 1, 1, -1]\n",
      "y-coordinates :  [-1, -1, 1, 1]\n",
      "\n",
      "arctan2 values : \n",
      " [-135.  -45.   45.  135.]\n"
     ]
    }
   ],
   "source": [
    "import numpy as np\n",
    "\n",
    "arr1 = [-1, +1, +1, -1]\n",
    "arr2 = [-1, -1, +1, +1]\n",
    "\n",
    "ans = np.arctan2(arr2, arr1) * 180 / np.pi\n",
    "\n",
    "print (\"x-coordinates : \", arr1)\n",
    "print (\"y-coordinates : \", arr2)\n",
    "\n",
    "print (\"\\narctan2 values : \\n\", ans)"
   ]
  },
  {
   "cell_type": "code",
   "execution_count": 110,
   "id": "6cc47b54",
   "metadata": {},
   "outputs": [
    {
     "name": "stdout",
     "output_type": "stream",
     "text": [
      "arr1         :  [2, 2, 2, 2, 2]\n",
      "arr1         :  [2, 3, 4, 5, 6]\n",
      "\n",
      "Output array :  [ 4.  8. 16. 32. 64.]\n"
     ]
    }
   ],
   "source": [
    "import numpy as np\n",
    "\n",
    "# input_array\n",
    "arr1 = [2, 2, 2, 2, 2]\n",
    "arr2 = [2, 3, 4, 5, 6]\n",
    "print (\"arr1         : \", arr1)\n",
    "print (\"arr1         : \", arr2)\n",
    "\n",
    "# output_array\n",
    "out = np.float_power(arr1, arr2)\n",
    "print (\"\\nOutput array : \", out)"
   ]
  },
  {
   "cell_type": "code",
   "execution_count": 112,
   "id": "39bbfa7f",
   "metadata": {},
   "outputs": [
    {
     "name": "stdout",
     "output_type": "stream",
     "text": [
      "Positive :  False \n",
      "\n",
      "Positive :  False \n",
      "\n",
      "Positive :  False \n",
      "\n",
      "Positive :  True \n",
      "\n",
      "Checking for positivity :  [0 0 1]\n"
     ]
    }
   ],
   "source": [
    "import numpy as geek \n",
    "\n",
    "print(\"Positive : \", geek.isposinf(1), \"\\n\")\n",
    "\n",
    "print(\"Positive : \", geek.isposinf(0), \"\\n\")\n",
    "\n",
    "# not a number\n",
    "print(\"Positive : \", geek.isposinf(geek.nan), \"\\n\")\n",
    "\n",
    "#  infinity\n",
    "print(\"Positive : \", geek.isposinf(geek.inf), \"\\n\")\n",
    "\n",
    "x = geek.array([-geek.inf, 0., geek.inf])\n",
    "y = geek.array([2, 2, 2])\n",
    "print(\"Checking for positivity : \", geek.isposinf(x, y))"
   ]
  },
  {
   "cell_type": "code",
   "execution_count": 113,
   "id": "f0c6bc47",
   "metadata": {},
   "outputs": [
    {
     "name": "stdout",
     "output_type": "stream",
     "text": [
      "arr1         :  [6, 7, 2, 9, 1]\n",
      "arr1         :  [2, 3, 4, 5, 6]\n",
      "\n",
      "Output array : \n",
      " [3.         2.33333333 0.5        1.8        0.16666667]\n"
     ]
    }
   ],
   "source": [
    "import numpy as np\n",
    "\n",
    "# input_array\n",
    "arr1 = [6, 7, 2, 9, 1]\n",
    "arr2 = [2, 3, 4, 5, 6]\n",
    "print (\"arr1         : \", arr1)\n",
    "print (\"arr1         : \", arr2)\n",
    "\n",
    "# output_array\n",
    "out = np.true_divide(arr1, arr2)\n",
    "print (\"\\nOutput array : \\n\", out)"
   ]
  },
  {
   "cell_type": "code",
   "execution_count": 114,
   "id": "50d74a11",
   "metadata": {},
   "outputs": [
    {
     "name": "stdout",
     "output_type": "stream",
     "text": [
      "Check to be Equal : \n",
      " [ True False] \n",
      "\n",
      "Check to be Equal : \n",
      " [[ True False]\n",
      " [ True False]] \n",
      "\n"
     ]
    }
   ],
   "source": [
    "# Python Program illustrating\n",
    "# numpy.equal() method\n",
    "import numpy as geek \n",
    " \n",
    "a  = geek.equal([1., 2.], [1., 3.])\n",
    "print(\"Check to be Equal : \\n\", a, \"\\n\")\n",
    " \n",
    "b = geek.equal([1, 2], [[1, 3],[1, 4]])\n",
    "print(\"Check to be Equal : \\n\", b, \"\\n\")"
   ]
  },
  {
   "cell_type": "code",
   "execution_count": 115,
   "id": "851e539a",
   "metadata": {},
   "outputs": [
    {
     "name": "stdout",
     "output_type": "stream",
     "text": [
      "tri with k = 1 : \n",
      " [[1. 1. 0.]\n",
      " [1. 1. 1.]] \n",
      "\n",
      "tri with main diagonal : \n",
      " [[1. 0. 0. 0. 0.]\n",
      " [1. 1. 0. 0. 0.]\n",
      " [1. 1. 1. 0. 0.]] \n",
      "\n",
      "tri with k = -1 : \n",
      " [[0. 0. 0. 0. 0.]\n",
      " [1. 0. 0. 0. 0.]\n",
      " [1. 1. 0. 0. 0.]] \n",
      "\n"
     ]
    }
   ],
   "source": [
    "# Python Program illustrating\n",
    "# numpy.tri method\n",
    "\n",
    "import numpy as geek\n",
    "\n",
    "print(\"tri with k = 1 : \\n\",geek.tri(2, 3, 1, dtype = float), \"\\n\")\n",
    "\n",
    "print(\"tri with main diagonal : \\n\",geek.tri(3, 5, 0), \"\\n\")\n",
    "\n",
    "print(\"tri with k = -1 : \\n\",geek.tri(3, 5, -1), \"\\n\")"
   ]
  },
  {
   "cell_type": "code",
   "execution_count": 116,
   "id": "6600b31d",
   "metadata": {},
   "outputs": [
    {
     "name": "stdout",
     "output_type": "stream",
     "text": [
      "Is Complex :  [ True False] \n",
      "\n",
      "Is Complex :  [ True False] \n",
      "\n"
     ]
    }
   ],
   "source": [
    "# Python Program illustrating\n",
    "# numpy.iscomplex() method\n",
    " \n",
    "import numpy as geek \n",
    "\n",
    "print(\"Is Complex : \", geek.iscomplex([1+1j, 1+0j]), \"\\n\")\n",
    "\n",
    "print(\"Is Complex : \", geek.iscomplex([0+1j, 0]), \"\\n\")"
   ]
  },
  {
   "cell_type": "code",
   "execution_count": 117,
   "id": "78fb5b43",
   "metadata": {},
   "outputs": [
    {
     "name": "stdout",
     "output_type": "stream",
     "text": [
      "Not equal : \n",
      " [False  True] \n",
      "\n",
      "Not equal : \n",
      " [[False  True]\n",
      " [False  True]] \n",
      "\n"
     ]
    }
   ],
   "source": [
    "# Python Program illustrating \n",
    "# numpy.not_equal() method \n",
    "\n",
    "import numpy as geek \n",
    "\n",
    "a = geek.not_equal([1., 2.], [1., 3.]) \n",
    "print(\"Not equal : \\n\", a, \"\\n\") \n",
    "\n",
    "b = geek.not_equal([1, 2], [[1, 3],[1, 4]]) \n",
    "print(\"Not equal : \\n\", b, \"\\n\")"
   ]
  },
  {
   "cell_type": "code",
   "execution_count": 118,
   "id": "d3757d36",
   "metadata": {},
   "outputs": [
    {
     "name": "stdout",
     "output_type": "stream",
     "text": [
      "Matrix b : \n",
      " [1 2]\n",
      "\n",
      "Matrix a : \n",
      " [[1 3]\n",
      " [1 4]]\n",
      "\n",
      "Matrix c : \n",
      " [[4.941e-324 1.038e-322 1.482e-322]\n",
      " [3.113e-322 2.144e-321 1.482e-323]\n",
      " [2.668e-322 2.668e-322 2.767e-322]]\n"
     ]
    }
   ],
   "source": [
    "# Python Programming illustrating\n",
    "# numpy.empty method\n",
    "\n",
    "import numpy as geek\n",
    "\n",
    "b = geek.empty(2, dtype = int)\n",
    "print(\"Matrix b : \\n\", b)\n",
    "\n",
    "a = geek.empty([2, 2], dtype = int)\n",
    "print(\"\\nMatrix a : \\n\", a)\n",
    "\n",
    "c = geek.empty([3, 3])\n",
    "print(\"\\nMatrix c : \\n\", c)"
   ]
  },
  {
   "cell_type": "code",
   "execution_count": 120,
   "id": "3c6814ed",
   "metadata": {},
   "outputs": [
    {
     "name": "stdout",
     "output_type": "stream",
     "text": [
      "Is NaN :  False \n",
      "\n",
      "Is NaN :  False \n",
      "\n",
      "Is NaN :  True \n",
      "\n",
      "Is NaN :  False \n",
      "\n",
      "Checking for NaN :  [0 0 0]\n"
     ]
    }
   ],
   "source": [
    "# Python Program illustrating\n",
    "# numpy.isnan() method\n",
    " \n",
    "import numpy as geek \n",
    "\n",
    "print(\"Is NaN : \", geek.isnan(1), \"\\n\")\n",
    "\n",
    "print(\"Is NaN : \", geek.isnan(0), \"\\n\")\n",
    "\n",
    "# not a number\n",
    "print(\"Is NaN : \", geek.isnan(geek.nan), \"\\n\")\n",
    "\n",
    "#  infinity\n",
    "print(\"Is NaN : \", geek.isnan(geek.inf), \"\\n\")\n",
    "\n",
    "\n",
    "x = geek.array([-geek.inf, 0., geek.inf])\n",
    "y = geek.array([2, 2, 2])\n",
    "print(\"Checking for NaN : \", geek.isnan(x, y))"
   ]
  },
  {
   "cell_type": "code",
   "execution_count": 121,
   "id": "79160e3f",
   "metadata": {},
   "outputs": [
    {
     "name": "stdout",
     "output_type": "stream",
     "text": [
      "Not equal : \n",
      " [False  True] \n",
      "\n",
      "Not equal : \n",
      " [[False  True]\n",
      " [False  True]] \n",
      "\n",
      "Is a lesser than b :  [ True False]\n"
     ]
    }
   ],
   "source": [
    "# Python Program illustrating\n",
    "# numpy.less() method\n",
    "\n",
    "import numpy as geek\n",
    "\n",
    "a  = geek.less([8., 2.], [5., 3.])\n",
    "print(\"Not equal : \\n\", a, \"\\n\")\n",
    "\n",
    "b = geek.less([2, 2], [[1, 3],[1, 4]])\n",
    "print(\"Not equal : \\n\", b, \"\\n\")\n",
    "\n",
    "a = geek.array([4,2])\n",
    "b = geek.array([6,2])\n",
    "\n",
    "print(\"Is a lesser than b : \", a < b)"
   ]
  },
  {
   "cell_type": "code",
   "execution_count": 122,
   "id": "5d5c2e4a",
   "metadata": {},
   "outputs": [
    {
     "name": "stdout",
     "output_type": "stream",
     "text": [
      "Comparing complex with int :  [ True False]\n",
      "\n",
      " Comparing complex with int  .less() :  [ True False]\n"
     ]
    }
   ],
   "source": [
    "\n",
    "import numpy as geek \n",
    "  \n",
    "a = geek.array([1j,2])\n",
    "b = geek.array([1,2])\n",
    " \n",
    "print(\"Comparing complex with int : \", a < b)\n",
    "\n",
    "\n",
    "d  = geek.less(a, b)\n",
    "print(\"\\n Comparing complex with int  .less() : \", d)"
   ]
  },
  {
   "cell_type": "code",
   "execution_count": 123,
   "id": "34b73337",
   "metadata": {},
   "outputs": [
    {
     "name": "stdout",
     "output_type": "stream",
     "text": [
      "\n",
      "Matrix a : \n",
      " [4620693217682128896 4611686018427387904]\n",
      "\n",
      "Matrix c : \n",
      " [[4607182418800017408 4607182418800017408 4607182418800017408]\n",
      " [4607182418800017408 4607182418800017408 4607182418800017408]]\n"
     ]
    }
   ],
   "source": [
    "# Python Program illustrating\n",
    "# numpy.empty_like method\n",
    "\n",
    "import numpy as geek\n",
    "\n",
    "a = geek.empty_like([2, 2], dtype = int)\n",
    "print(\"\\nMatrix a : \\n\", a)\n",
    "\n",
    "c = a = ([1,2,3], [4,5,6])\n",
    "print(\"\\nMatrix c : \\n\", geek.empty_like(c))"
   ]
  },
  {
   "cell_type": "code",
   "execution_count": 124,
   "id": "863e61cd",
   "metadata": {},
   "outputs": [
    {
     "name": "stdout",
     "output_type": "stream",
     "text": [
      "Input array :  [1, 3, 5, 4]\n",
      "\n",
      "Is complex :  False\n"
     ]
    }
   ],
   "source": [
    "import numpy as np\n",
    "\n",
    "in_array = [1, 3, 5, 4]\n",
    "print (\"Input array : \", in_array)\n",
    "\n",
    "output_value = np.iscomplexobj(in_array)\n",
    "print (\"\\nIs complex : \", output_value)"
   ]
  },
  {
   "cell_type": "code",
   "execution_count": 125,
   "id": "c15b3bcf",
   "metadata": {},
   "outputs": [
    {
     "name": "stdout",
     "output_type": "stream",
     "text": [
      "2D array : \n",
      " [[ 0  1  2  3  4]\n",
      " [ 5  6  7  8  9]\n",
      " [10 11 12 13 14]]\n",
      "\n",
      "Using Array :  [2 3 4 5]\n",
      "\n",
      "1D representation of array : \n",
      " -> [ 0  1  2  3  4  5  6  7  8  9 10 11 12 13 14]\n"
     ]
    }
   ],
   "source": [
    "# Python Program illustrating\n",
    "# working of ndarray.flat()\n",
    "\n",
    "import numpy as geek \n",
    "\n",
    "# Working on 1D iteration of 2D array \n",
    "array = geek.arange(15).reshape(3, 5)\n",
    "print(\"2D array : \\n\",array )\n",
    "\n",
    "# Using flat() : 1D iterator over range\n",
    "print(\"\\nUsing Array : \", array.flat[2:6])\n",
    "\n",
    "# Using flat() to Print 1D represented array\n",
    "print(\"\\n1D representation of array : \\n ->\", array.flat[0:15])"
   ]
  },
  {
   "cell_type": "code",
   "execution_count": 126,
   "id": "db5c63e7",
   "metadata": {},
   "outputs": [
    {
     "name": "stdout",
     "output_type": "stream",
     "text": [
      "less_equal() : \n",
      " [False  True] \n",
      "\n",
      "less_equal() : \n",
      " [[False  True]\n",
      " [False  True]] \n",
      "\n",
      "Is a less_equal than b :  [ True False]\n"
     ]
    }
   ],
   "source": [
    " \n",
    "import numpy as geek \n",
    "\n",
    "a  = geek.less_equal([8., 2.], [5., 3.])\n",
    "print(\"less_equal() : \\n\", a, \"\\n\")\n",
    "\n",
    "b = geek.less_equal([2, 2], [[1, 3],[1, 4]])\n",
    "print(\"less_equal() : \\n\", b, \"\\n\")\n",
    "\n",
    "a = geek.array([4,3])\n",
    "b = geek.array([6,2])\n",
    "\n",
    "print(\"Is a less_equal than b : \", a <= b)"
   ]
  },
  {
   "cell_type": "code",
   "execution_count": 127,
   "id": "55c1cb92",
   "metadata": {},
   "outputs": [
    {
     "name": "stdout",
     "output_type": "stream",
     "text": [
      "[ True False  True  True False]\n"
     ]
    }
   ],
   "source": [
    "import numpy as np\n",
    "a = np.array([1+0j, 2+3j, 5, 4.5, 7j])\n",
    "res = np.isreal(a)\n",
    "print(res)"
   ]
  },
  {
   "cell_type": "code",
   "execution_count": 128,
   "id": "40cc2a82",
   "metadata": {},
   "outputs": [
    {
     "name": "stdout",
     "output_type": "stream",
     "text": [
      "Input array : \n",
      " [1, 3, 5]\n",
      "\n",
      "Exponential value of array element : \n",
      " [  2.71828183  20.08553692 148.4131591 ]\n",
      "\n",
      "(Exponential value of array element) - (1) : \n",
      " [  1.71828183  19.08553692 147.4131591 ]\n"
     ]
    }
   ],
   "source": [
    "\n",
    "import numpy as np\n",
    "\n",
    "in_array = [1, 3, 5]\n",
    "print (\"Input array : \\n\", in_array)\n",
    "\n",
    "exp_values = np.exp(in_array)\n",
    "print (\"\\nExponential value of array element : \"\n",
    "       \"\\n\", exp_values)\n",
    "\n",
    "expm1_values = np.expm1(in_array)\n",
    "print (\"\\n(Exponential value of array element) - (1) \"\n",
    "       \": \\n\", expm1_values)"
   ]
  },
  {
   "cell_type": "code",
   "execution_count": 129,
   "id": "6335a124",
   "metadata": {},
   "outputs": [
    {
     "name": "stdout",
     "output_type": "stream",
     "text": [
      "Not equal : \n",
      " [ True False] \n",
      "\n",
      "Not equal : \n",
      " [[ True False]\n",
      " [ True False]] \n",
      "\n",
      "Is a greater than b :  [False False]\n"
     ]
    }
   ],
   "source": [
    " \n",
    "import numpy as geek \n",
    "\n",
    "a  = geek.greater([8., 2.], [5., 3.])\n",
    "print(\"Not equal : \\n\", a, \"\\n\")\n",
    "\n",
    "b = geek.greater([2, 2], [[1, 3],[1, 4]])\n",
    "print(\"Not equal : \\n\", b, \"\\n\")\n",
    "\n",
    "a = geek.array([4,2])\n",
    "b = geek.array([6,2])\n",
    "\n",
    "print(\"Is a greater than b : \", a > b)"
   ]
  },
  {
   "cell_type": "code",
   "execution_count": 131,
   "id": "736ef892",
   "metadata": {},
   "outputs": [
    {
     "name": "stdout",
     "output_type": "stream",
     "text": [
      "Comparing float with int :  [False  True]\n",
      "\n",
      "Comparing float with int using .greater() :  [ True False]\n"
     ]
    }
   ],
   "source": [
    "import numpy as geek \n",
    "\n",
    "# Here we will compare Float with int values\n",
    "a = geek.array([1.1, 1])\n",
    "b = geek.array([1, 2])\n",
    " \n",
    "# indicating 1.1 is greater than 1\n",
    "print(\"Comparing float with int : \", a < b)\n",
    "\n",
    "# indicating 1.1 is greater than 1\n",
    "d = geek.greater(a, b)\n",
    "print(\"\\nComparing float with int using .greater() : \", d)"
   ]
  },
  {
   "cell_type": "code",
   "execution_count": 132,
   "id": "3c091cb5",
   "metadata": {},
   "outputs": [
    {
     "name": "stdout",
     "output_type": "stream",
     "text": [
      "Original array : \n",
      " [[0 1]\n",
      " [2 3]\n",
      " [4 5]\n",
      " [6 7]\n",
      " [8 9]]\n",
      "\n",
      "Matrix b : \n",
      " [[0. 0.]\n",
      " [0. 0.]\n",
      " [0. 0.]\n",
      " [0. 0.]\n",
      " [0. 0.]]\n",
      "\n",
      "Matrix c : \n",
      " [0 0 0 0 0 0 0 0]\n"
     ]
    }
   ],
   "source": [
    "import numpy as geek\n",
    "\n",
    "array = geek.arange(10).reshape(5, 2)\n",
    "print(\"Original array : \\n\", array)\n",
    "\n",
    "\n",
    "b = geek.zeros_like(array, float)\n",
    "print(\"\\nMatrix b : \\n\", b)\n",
    "\n",
    "array = geek.arange(8)\n",
    "c = geek.zeros_like(array)\n",
    "print(\"\\nMatrix c : \\n\", c)"
   ]
  },
  {
   "cell_type": "code",
   "execution_count": null,
   "id": "180fb89f",
   "metadata": {},
   "outputs": [
    {
     "name": "stdout",
     "output_type": "stream",
     "text": [
      "Finite :  True \n",
      "\n",
      "Finite :  True \n",
      "\n",
      "Finite :  False \n",
      "\n",
      "Finite :  False \n",
      "\n",
      "Finite :  False \n",
      "\n"
     ]
    }
   ],
   "source": [
    "import numpy as geek \n",
    "\n",
    "print(\"Finite : \", geek.isfinite(1), \"\\n\")\n",
    "\n",
    "print(\"Finite : \", geek.isfinite(0), \"\\n\")\n",
    "\n",
    "# not a number\n",
    "print(\"Finite : \", geek.isfinite(geek.nan), \"\\n\")\n",
    "\n",
    "#  infinity\n",
    "print(\"Finite : \", geek.isfinite(geek.inf), \"\\n\")\n",
    "\n",
    "print(\"Finite : \", geek.isfinite(-geek.inf), \"\\n\")"
   ]
  },
  {
   "cell_type": "code",
   "execution_count": 135,
   "id": "9bef86ce",
   "metadata": {},
   "outputs": [
    {
     "name": "stdout",
     "output_type": "stream",
     "text": [
      "Bincount output  : \n",
      "  [0 4 2 0 0 0 1]\n",
      "size of bin :  7 \n",
      "\n",
      "Bincount output  : \n",
      "  [0 1 3 0 1 5]\n",
      "size of bin :  6 \n",
      "\n",
      "Bincount output  : \n",
      "  [0 1 3 0 1 5 0 0 0 0]\n",
      "size of bin :  10 \n",
      "\n"
     ]
    }
   ],
   "source": [
    "import numpy as geek\n",
    "\n",
    "# 1D array with +ve integers\n",
    "array1 = [1, 6, 1, 1, 1, 2, 2]\n",
    "bin = geek.bincount(array1)\n",
    "print(\"Bincount output  : \\n \", bin)\n",
    "print(\"size of bin : \", len(bin), \"\\n\")\n",
    "\n",
    "array2 = [1, 5, 5, 5, 4, 5, 5, 2, 2, 2]\n",
    "bin = geek.bincount(array2)\n",
    "print(\"Bincount output  : \\n \", bin)\n",
    "print(\"size of bin : \", len(bin), \"\\n\")\n",
    "\n",
    "# using min_length attribute\n",
    "length = 10\n",
    "bin1 = geek.bincount(array2, None, length)\n",
    "print(\"Bincount output  : \\n \", bin1)\n",
    "\n",
    "print(\"size of bin : \", len(bin1), \"\\n\")"
   ]
  },
  {
   "cell_type": "code",
   "execution_count": 136,
   "id": "8d6d4182",
   "metadata": {},
   "outputs": [
    {
     "name": "stdout",
     "output_type": "stream",
     "text": [
      "Not equal : \n",
      " [ True False] \n",
      "\n",
      "Not equal : \n",
      " [[ True False]\n",
      " [ True False]] \n",
      "\n",
      "Is a greater_equal than b :  [False  True]\n"
     ]
    }
   ],
   "source": [
    "import numpy as geek \n",
    "\n",
    "a  = geek.greater_equal([8., 2.], [5., 3.])\n",
    "print(\"Not equal : \\n\", a, \"\\n\")\n",
    "\n",
    "b = geek.greater_equal([2, 2], [[1, 3],[1, 4]])\n",
    "print(\"Not equal : \\n\", b, \"\\n\")\n",
    "\n",
    "a = geek.array([4,2])\n",
    "b = geek.array([6,2])\n",
    "\n",
    "print(\"Is a greater_equal than b : \", a >= b)"
   ]
  },
  {
   "cell_type": "code",
   "execution_count": 137,
   "id": "9b94d80e",
   "metadata": {},
   "outputs": [
    {
     "name": "stdout",
     "output_type": "stream",
     "text": [
      "Input array : \n",
      " [[1 2 3]\n",
      " [4 5 6]]\n",
      "\n",
      "isfortran :  False\n"
     ]
    }
   ],
   "source": [
    "import numpy as np\n",
    "\n",
    "in_array = np.array([[1, 2, 3], [4, 5, 6]], order='C')\n",
    "print (\"Input array : \\n\", in_array)\n",
    "\n",
    "exp2_values = np.exp2(in_array)\n",
    "print (\"\\nisfortran : \", np.isfortran(in_array))"
   ]
  },
  {
   "cell_type": "code",
   "execution_count": 138,
   "id": "a592039b",
   "metadata": {},
   "outputs": [
    {
     "name": "stdout",
     "output_type": "stream",
     "text": [
      "Input array : \n",
      " [0.5, 1.5, 2.5, 3.5, 4.5, 10.1]\n",
      "\n",
      "Rounded values : \n",
      " [ 0.  2.  2.  4.  4. 10.]\n",
      "\n",
      "Input array : \n",
      " [0.53, 1.54, 0.71]\n",
      "\n",
      "Rounded values : \n",
      " [1. 2. 1.]\n",
      "\n",
      "Input array : \n",
      " [0.5538, 1.33354, 0.71445]\n",
      "\n",
      "Rounded values : \n",
      " [1. 1. 1.]\n"
     ]
    }
   ],
   "source": [
    "import numpy as np\n",
    "\n",
    "in_array = [.5, 1.5, 2.5, 3.5, 4.5, 10.1]\n",
    "print (\"Input array : \\n\", in_array)\n",
    "\n",
    "rintoff_values = np.rint(in_array)\n",
    "print (\"\\nRounded values : \\n\", rintoff_values)\n",
    "\n",
    "\n",
    "in_array = [.53, 1.54, .71]\n",
    "print (\"\\nInput array : \\n\", in_array)\n",
    "\n",
    "rintoff_values = np.rint(in_array)\n",
    "print (\"\\nRounded values : \\n\", rintoff_values)\n",
    "\n",
    "in_array = [.5538, 1.33354, .71445]\n",
    "print (\"\\nInput array : \\n\", in_array)\n",
    "\n",
    "rintoff_values = np.rint(in_array)\n",
    "print (\"\\nRounded values : \\n\", rintoff_values)"
   ]
  },
  {
   "cell_type": "code",
   "execution_count": 139,
   "id": "03496d70",
   "metadata": {},
   "outputs": [
    {
     "name": "stdout",
     "output_type": "stream",
     "text": [
      "product 2\n"
     ]
    }
   ],
   "source": [
    "import numpy as np\n",
    "array1 = [1, 2]\n",
    "\n",
    "# applying function\n",
    "array2 = np.prod(array1)\n",
    "\n",
    "print(\"product\", array2)"
   ]
  },
  {
   "cell_type": "code",
   "execution_count": 140,
   "id": "860eb498",
   "metadata": {},
   "outputs": [
    {
     "name": "stdout",
     "output_type": "stream",
     "text": [
      "Input array : \n",
      " [0, 1, 0.3, -1]\n",
      "\n",
      "Inverse Tangent values : \n",
      " [ 0.          0.78539816  0.29145679 -0.78539816]\n"
     ]
    }
   ],
   "source": [
    "import numpy as np\n",
    "\n",
    "in_array = [0, 1, 0.3, -1]\n",
    "print (\"Input array : \\n\", in_array)\n",
    "\n",
    "arctan_Values = np.arctan(in_array)\n",
    "print (\"\\nInverse Tangent values : \\n\",\n",
    "                            arctan_Values)"
   ]
  },
  {
   "cell_type": "code",
   "execution_count": 141,
   "id": "c54734d3",
   "metadata": {},
   "outputs": [
    {
     "name": "stdout",
     "output_type": "stream",
     "text": [
      "cbrt Value of arr1 : \n",
      " [  1.  30.   4. -10.]\n",
      "\n",
      "cbrt Value of arr2 :  [10.0793684 -5.0396842]\n"
     ]
    }
   ],
   "source": [
    "import numpy as np\n",
    " \n",
    "arr1 = [1, 27000, 64, -1000]\n",
    "print (\"cbrt Value of arr1 : \\n\", np.cbrt(arr1))\n",
    " \n",
    "arr2 = [1024 ,-128]\n",
    "print (\"\\ncbrt Value of arr2 : \", np.cbrt(arr2))"
   ]
  },
  {
   "cell_type": "code",
   "execution_count": 142,
   "id": "1550eab3",
   "metadata": {},
   "outputs": [
    {
     "name": "stdout",
     "output_type": "stream",
     "text": [
      "Square Value of arr1 : \n",
      " [     1      9    225 217156]\n",
      "\n",
      "Square Value of arr2 :  [ 529 3136]\n"
     ]
    }
   ],
   "source": [
    "# Python program explaining\n",
    "# square () function\n",
    "\n",
    "import numpy as np\n",
    "\n",
    "arr1 = [1, -3, 15, -466]\n",
    "print (\"Square Value of arr1 : \\n\", np.square(arr1))\n",
    "\n",
    "arr2 = [23 ,-56]\n",
    "print (\"\\nSquare Value of arr2 : \", np.square(arr2))"
   ]
  }
 ],
 "metadata": {
  "kernelspec": {
   "display_name": "base",
   "language": "python",
   "name": "python3"
  },
  "language_info": {
   "codemirror_mode": {
    "name": "ipython",
    "version": 3
   },
   "file_extension": ".py",
   "mimetype": "text/x-python",
   "name": "python",
   "nbconvert_exporter": "python",
   "pygments_lexer": "ipython3",
   "version": "3.13.5"
  }
 },
 "nbformat": 4,
 "nbformat_minor": 5
}
