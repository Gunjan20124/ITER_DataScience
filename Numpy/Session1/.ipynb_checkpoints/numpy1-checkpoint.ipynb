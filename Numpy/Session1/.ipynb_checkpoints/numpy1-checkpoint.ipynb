{
 "cells": [
  {
   "cell_type": "code",
   "execution_count": 16,
   "id": "129dda06-c247-4606-93a5-7441f7bf8ce2",
   "metadata": {},
   "outputs": [
    {
     "name": "stdout",
     "output_type": "stream",
     "text": [
      "Simple array  [1 2 3 4 5]\n",
      "5\n"
     ]
    }
   ],
   "source": [
    "import numpy as np\n",
    "my_list = [1,2,3,4,5]\n",
    "arr = np.array(my_list)\n",
    "print(\"Simple array \", arr)\n",
    "print(arr[4])"
   ]
  },
  {
   "cell_type": "code",
   "execution_count": 13,
   "id": "62c4296b-7d71-4c9a-8aec-a120666fa9ae",
   "metadata": {},
   "outputs": [
    {
     "name": "stdout",
     "output_type": "stream",
     "text": [
      "[[0. 0. 0.]\n",
      " [0. 0. 0.]]\n",
      "[[1. 1. 1.]\n",
      " [1. 1. 1.]\n",
      " [1. 1. 1.]]\n",
      "[ 0.   2.5  5.   7.5 10. ]\n",
      "[0 2 4 6 8]\n"
     ]
    }
   ],
   "source": [
    "zeros_array = np.zeros((2,3))\n",
    "ones_array = np.ones((3,3))\n",
    "linspace_array = np.linspace(0,10,5)\n",
    "range_array = np.arange(0,10,2)\n",
    "\n",
    "print(zeros_array)\n",
    "print(ones_array)\n",
    "print(linspace_array)\n",
    "print(range_array)"
   ]
  },
  {
   "cell_type": "code",
   "execution_count": 12,
   "id": "a3938ee3-6394-408a-8b6d-3332d2fac64f",
   "metadata": {},
   "outputs": [
    {
     "name": "stdout",
     "output_type": "stream",
     "text": [
      "[[1. 0. 0. 0. 0.]\n",
      " [0. 1. 0. 0. 0.]\n",
      " [0. 0. 1. 0. 0.]\n",
      " [0. 0. 0. 1. 0.]\n",
      " [0. 0. 0. 0. 1.]]\n"
     ]
    }
   ],
   "source": [
    "import numpy as np\n",
    "identity_matrix = np.eye(5)\n",
    "print(identity_matrix)"
   ]
  },
  {
   "cell_type": "code",
   "execution_count": 15,
   "id": "1bc45bf7-7300-46fe-932f-e404685cd3cc",
   "metadata": {},
   "outputs": [
    {
     "name": "stdout",
     "output_type": "stream",
     "text": [
      "[[0.13262068 0.5819246  0.02992465]\n",
      " [0.28700726 0.62773317 0.26301656]]\n",
      "[[ 0.95117733 -2.474124    0.1548036   0.39601704]\n",
      " [-0.26690711 -0.7475396   1.48442843  0.26029056]]\n",
      "[[7 1 5]\n",
      " [6 5 7]]\n"
     ]
    }
   ],
   "source": [
    "import numpy as np\n",
    "\n",
    "random_array = np.random.rand(2, 3)\n",
    "normal_array = np.random.randn(2, 4)\n",
    "randint_array = np.random.randint(1, 10, size=(2, 3))\n",
    "\n",
    "print(random_array)\n",
    "print(normal_array)\n",
    "print(randint_array)"
   ]
  },
  {
   "cell_type": "code",
   "execution_count": 20,
   "id": "9c6a8f27-f1a3-400d-bcd0-b87fc22e85e5",
   "metadata": {},
   "outputs": [
    {
     "name": "stdout",
     "output_type": "stream",
     "text": [
      "3\n"
     ]
    }
   ],
   "source": [
    "arr1=np.array([[1,2,3,4,5],[7,8,3,6,8]])\n",
    "print(arr1[1,2])"
   ]
  },
  {
   "cell_type": "code",
   "execution_count": 21,
   "id": "57a1a4fe-a7a8-4809-a94c-a34937c6144c",
   "metadata": {},
   "outputs": [
    {
     "name": "stdout",
     "output_type": "stream",
     "text": [
      "[1 3 3]\n"
     ]
    }
   ],
   "source": [
    "import numpy as np\n",
    "arr2 = np.array([9, 1, 3, 3, 2, 5])\n",
    "print(arr2[1:4])"
   ]
  },
  {
   "cell_type": "code",
   "execution_count": 22,
   "id": "849e9241-7769-4558-ba09-572d84eadad0",
   "metadata": {},
   "outputs": [
    {
     "name": "stdout",
     "output_type": "stream",
     "text": [
      "First Reshaped Array : \n",
      "[[ 1  2  3  4]\n",
      " [ 5  6  7  8]\n",
      " [ 9 10 11 12]\n",
      " [13 14 15 16]]\n",
      "Second Reshaped Array : \n",
      "[[ 1  2  3  4  5  6  7  8]\n",
      " [ 9 10 11 12 13 14 15 16]]\n"
     ]
    }
   ],
   "source": [
    "# creating a numpy array\n",
    "array = np.array([1, 2, 3, 4, 5, 6, 7, 8, 9, 10, 11, 12, 13, 14, 15, 16])\n",
    "n = array.size\n",
    "N = 4\n",
    "M = n//N\n",
    "reshaped1 = array.reshape((N, M))\n",
    "print(\"First Reshaped Array : \")\n",
    "print(reshaped1)\n",
    "reshaped2 = np.reshape(array, (2, 8))\n",
    "print(\"Second Reshaped Array : \")\n",
    "print(reshaped2)"
   ]
  },
  {
   "cell_type": "code",
   "execution_count": null,
   "id": "2779d854-6d9f-4359-a267-10b4f2cf7cf0",
   "metadata": {},
   "outputs": [],
   "source": []
  }
 ],
 "metadata": {
  "kernelspec": {
   "display_name": "Python 3 (ipykernel)",
   "language": "python",
   "name": "python3"
  },
  "language_info": {
   "codemirror_mode": {
    "name": "ipython",
    "version": 3
   },
   "file_extension": ".py",
   "mimetype": "text/x-python",
   "name": "python",
   "nbconvert_exporter": "python",
   "pygments_lexer": "ipython3",
   "version": "3.13.5"
  }
 },
 "nbformat": 4,
 "nbformat_minor": 5
}
