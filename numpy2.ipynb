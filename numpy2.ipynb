{
 "cells": [
  {
   "cell_type": "code",
   "execution_count": 2,
   "id": "1f7e3c56-cbcc-40cc-ad91-b3c0df646e76",
   "metadata": {},
   "outputs": [
    {
     "name": "stdout",
     "output_type": "stream",
     "text": [
      "[ 1  2  3  9 10 20]\n"
     ]
    }
   ],
   "source": [
    "import numpy as np \n",
    "arr=np.array([[1,2,3],[9,10,20]])\n",
    "print(arr.flatten())"
   ]
  },
  {
   "cell_type": "code",
   "execution_count": 4,
   "id": "e91df3a3-50c2-4d99-a4c8-79b336e0ee55",
   "metadata": {},
   "outputs": [
    {
     "name": "stdout",
     "output_type": "stream",
     "text": [
      "[ 1  9  2 10  3 20]\n",
      "[ 1  2  3  9 10 20]\n",
      "[ 1  2  3  9 10 20]\n",
      "[ 1  2  3  9 10 20]\n"
     ]
    }
   ],
   "source": [
    "print(arr.flatten(\"F\"))\n",
    "print(arr.flatten(\"C\"))\n",
    "print(arr.flatten(\"A\"))\n",
    "print(arr.flatten(\"K\"))"
   ]
  },
  {
   "cell_type": "code",
   "execution_count": 11,
   "id": "66f5b6bd-2051-42ab-9b03-495a5b8fbf52",
   "metadata": {},
   "outputs": [
    {
     "name": "stdout",
     "output_type": "stream",
     "text": [
      "[[1 4 7]\n",
      " [2 5 8]\n",
      " [3 6 9]]\n",
      "[[1 3 5]\n",
      " [2 4 6]]\n"
     ]
    }
   ],
   "source": [
    "import numpy as np\n",
    "arr2 = np.array([[1,2,3]\n",
    "        ,[4,5,6],\n",
    "        [7,8,9]])\n",
    "print(arr2.transpose())\n",
    "arr3=np.array([[1,2],[3,4],[5,6]])\n",
    "print(arr3.transpose(1,0))"
   ]
  },
  {
   "cell_type": "code",
   "execution_count": 16,
   "id": "a87b2dcf-24d2-43d7-861d-05d0cb628355",
   "metadata": {},
   "outputs": [
    {
     "name": "stdout",
     "output_type": "stream",
     "text": [
      "arr :  [20, 2, 7, 1, 34]\n",
      "mean of arr :  12.8\n",
      "12.8\n"
     ]
    }
   ],
   "source": [
    "import numpy as np\n",
    "arr = [20, 2, 7, 1, 34]\n",
    "print(\"arr : \", arr) \n",
    "print(\"mean of arr : \", np.mean(arr))\n",
    "print(np.mean(arr, axis = 0))  "
   ]
  },
  {
   "cell_type": "code",
   "execution_count": 17,
   "id": "e747d549-7c46-4c9f-9f2f-6a79609c1530",
   "metadata": {},
   "outputs": [
    {
     "name": "stdout",
     "output_type": "stream",
     "text": [
      "\n",
      "Sum of arr :  36.2\n"
     ]
    }
   ],
   "source": [
    "import numpy as np \n",
    "arr = [20, 2, .2, 10, 4] \n",
    "print(\"\\nSum of arr : \", np.sum(arr)) "
   ]
  },
  {
   "cell_type": "code",
   "execution_count": 19,
   "id": "4aefd1fa-f352-4a45-98ab-1fa18c5050d1",
   "metadata": {},
   "outputs": [
    {
     "name": "stdout",
     "output_type": "stream",
     "text": [
      "Dot Product of scalar values  :  20\n",
      "Dot Product  :  (23+36j)\n"
     ]
    }
   ],
   "source": [
    "# numpy.dot() method\n",
    "import numpy as np\n",
    "\n",
    "# Scalars\n",
    "product = np.dot(5, 4)\n",
    "print(\"Dot Product of scalar values  : \", product)\n",
    "vector_a = 8 + 3j\n",
    "vector_b = 4 + 3j\n",
    "\n",
    "product = np.dot(vector_a, vector_b)\n",
    "print(\"Dot Product  : \", product)"
   ]
  },
  {
   "cell_type": "code",
   "execution_count": 21,
   "id": "da666d93-ab28-47e1-af99-ec0ee1803559",
   "metadata": {},
   "outputs": [
    {
     "name": "stdout",
     "output_type": "stream",
     "text": [
      "Dot Product  : \n",
      " [[20 48]\n",
      " [14 33]]\n",
      "\n",
      "Dot Product  : \n",
      " [[41 28]\n",
      " [18 12]]\n"
     ]
    }
   ],
   "source": [
    "import numpy as np\n",
    "vector_a = np.array([[8, 4], [5, 4]])\n",
    "vector_b = np.array([[2, 5], [1, 2]])\n",
    "\n",
    "product = np.dot(vector_a, vector_b)\n",
    "print(\"Dot Product  : \\n\", product)\n",
    "\n",
    "product = np.dot(vector_b, vector_a)\n",
    "print(\"\\nDot Product  : \\n\", product)"
   ]
  },
  {
   "cell_type": "code",
   "execution_count": 22,
   "id": "55416b8c-7985-4011-8119-689ca1d20681",
   "metadata": {},
   "outputs": [
    {
     "name": "stdout",
     "output_type": "stream",
     "text": [
      "False\n",
      "True\n",
      "True\n"
     ]
    }
   ],
   "source": [
    "import numpy as np\n",
    "a = 0.3 + 0.6\n",
    "b = 0.9\n",
    "print(a == b)          \n",
    "print(np.isclose(a, b))    \n",
    "print(np.allclose([1.0, 2.0], [1.0000001, 2.0]))  # True\n"
   ]
  },
  {
   "cell_type": "code",
   "execution_count": 23,
   "id": "4d2bf48e-d8bf-4832-9245-06330d7f6a3c",
   "metadata": {},
   "outputs": [
    {
     "name": "stdout",
     "output_type": "stream",
     "text": [
      "[[ 5 12]\n",
      " [21 32]]\n",
      "[[19 22]\n",
      " [43 50]]\n"
     ]
    }
   ],
   "source": [
    "import numpy as np\n",
    "A = np.array([[1, 2],\n",
    "              [3, 4]])\n",
    "B = np.array([[5, 6],\n",
    "              [7, 8]])\n",
    "print(A * B) \n",
    "print(np.matmul(A, B)) \n"
   ]
  },
  {
   "cell_type": "code",
   "execution_count": null,
   "id": "7dad4258-f75d-4b53-ad2e-9e3a7c3701d2",
   "metadata": {},
   "outputs": [],
   "source": []
  }
 ],
 "metadata": {
  "kernelspec": {
   "display_name": "Python 3 (ipykernel)",
   "language": "python",
   "name": "python3"
  },
  "language_info": {
   "codemirror_mode": {
    "name": "ipython",
    "version": 3
   },
   "file_extension": ".py",
   "mimetype": "text/x-python",
   "name": "python",
   "nbconvert_exporter": "python",
   "pygments_lexer": "ipython3",
   "version": "3.13.5"
  }
 },
 "nbformat": 4,
 "nbformat_minor": 5
}
