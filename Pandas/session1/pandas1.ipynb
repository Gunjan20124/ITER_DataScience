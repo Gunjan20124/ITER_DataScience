{
 "cells": [
  {
   "cell_type": "code",
   "execution_count": 5,
   "id": "37b85e0f-c331-4b85-84d5-5b7c83396e2c",
   "metadata": {},
   "outputs": [
    {
     "name": "stdout",
     "output_type": "stream",
     "text": [
      "                        Industry\n",
      "0             Accounting/Finance\n",
      "1   Advertising/Public Relations\n",
      "2             Aerospace/Aviation\n",
      "3  Arts/Entertainment/Publishing\n",
      "4                     Automotive\n"
     ]
    }
   ],
   "source": [
    "import pandas as pd\n",
    "df_csv=pd.read_csv(\"industry.csv\")\n",
    "print(df_csv.head())"
   ]
  },
  {
   "cell_type": "code",
   "execution_count": 9,
   "id": "e3281668-2716-447c-9510-f79c03e611a1",
   "metadata": {},
   "outputs": [
    {
     "name": "stdout",
     "output_type": "stream",
     "text": [
      "   Unnamed: 0                   Unnamed: 1 Unnamed: 2 Unnamed: 3  \\\n",
      "0         NaN            Excel Sample Data        NaN        NaN   \n",
      "1         NaN                          NaN        NaN        NaN   \n",
      "2         NaN  Technological Products Data        NaN        NaN   \n",
      "3         NaN                          NaN        NaN        NaN   \n",
      "4         NaN                        Brand     Device      Model   \n",
      "\n",
      "          Unnamed: 4       Unnamed: 5   Unnamed: 6  \n",
      "0                NaN              NaN          NaN  \n",
      "1                NaN              NaN          NaN  \n",
      "2                NaN              NaN          NaN  \n",
      "3                NaN              NaN          NaN  \n",
      "4  Country of Origin  Date of Release  Price (USD)  \n"
     ]
    }
   ],
   "source": [
    "df_excel = pd.read_excel(\"Technological-Products-Sample-Data.xlsx\")\n",
    "print(df_excel.head())"
   ]
  },
  {
   "cell_type": "code",
   "execution_count": 12,
   "id": "f28cb216-d710-42dc-8c35-8cd5e0a6ef2c",
   "metadata": {},
   "outputs": [
    {
     "name": "stdout",
     "output_type": "stream",
     "text": [
      "Alice\n",
      "0      Delhi\n",
      "1     Mumbai\n",
      "2    Kolkata\n",
      "Name: City, dtype: object\n",
      "Mumbai\n",
      "0    25\n",
      "1    30\n",
      "2    35\n",
      "Name: Age, dtype: int64\n"
     ]
    }
   ],
   "source": [
    "data = {'Name' : ['Alice' , 'Bob' , 'Charlie'],\n",
    "        'Age' : [25,30,35],\n",
    "        'City' : ['Delhi' , 'Mumbai' , 'Kolkata']}\n",
    "df=pd.DataFrame(data)\n",
    "print(df.loc[0,\"Name\"])\n",
    "print(df.loc[:,\"City\"])\n",
    "\n",
    "print(df.iloc[1,2])\n",
    "print(df.iloc[:,1])"
   ]
  },
  {
   "cell_type": "code",
   "execution_count": 5,
   "id": "badf95a5-6688-40e1-92c7-e28c84ef5c5e",
   "metadata": {},
   "outputs": [
    {
     "name": "stdout",
     "output_type": "stream",
     "text": [
      "    Name   Age   City\n",
      "0  Alice  25.0  Delhi\n",
      "      Name   Age     City\n",
      "0    Alice  25.0    Delhi\n",
      "1      Bob   0.0   Mumbai\n",
      "2  Unknown  35.0  Kolkata\n",
      "    Name   Age\n",
      "0  Alice  25.0\n",
      "1    Bob   NaN\n",
      "2   None  35.0\n",
      "  FullName   Age     City\n",
      "0    Alice  25.0    Delhi\n",
      "1      Bob   NaN   Mumbai\n",
      "2     None  35.0  Kolkata\n"
     ]
    }
   ],
   "source": [
    "import pandas as pd\n",
    "data2 = {'Name' : ['Alice' , 'Bob' , None],\n",
    "        'Age' : [25 , None , 35],\n",
    "         'City' : ['Delhi' , 'Mumbai' , 'Kolkata']}\n",
    "df = pd.DataFrame(data2)\n",
    "print(df.dropna())\n",
    "print(df.fillna({'Name':'Unknown' , 'Age' : 0}))\n",
    "print(df.drop(\"City\" , axis=1))\n",
    "print(df.rename(columns={\"Name\" : \"FullName\"}))"
   ]
  },
  {
   "cell_type": "code",
   "execution_count": 6,
   "id": "4d8119c7-caae-4dd7-b3fc-8d63ac7b1948",
   "metadata": {},
   "outputs": [
    {
     "name": "stdout",
     "output_type": "stream",
     "text": [
      "City\n",
      "Delhi     175.0\n",
      "Mumbai    275.0\n",
      "Name: Sales, dtype: float64\n",
      "City    Year\n",
      "Delhi   2023    200\n",
      "        2024    150\n",
      "Mumbai  2023    300\n",
      "        2024    250\n",
      "Name: Sales, dtype: int64\n",
      "Year    2023  2024\n",
      "City              \n",
      "Delhi    200   150\n",
      "Mumbai   300   250\n"
     ]
    }
   ],
   "source": [
    "data = {'City': ['Delhi', 'Delhi', 'Mumbai', 'Mumbai'],\n",
    "        'Sales': [200, 150, 300, 250],\n",
    "        'Year': [2023, 2024, 2023, 2024]}\n",
    "\n",
    "df = pd.DataFrame(data)\n",
    "print(df.groupby(\"City\")[\"Sales\"].mean())\n",
    "print(df.groupby([\"City\", \"Year\"])[\"Sales\"].sum())\n",
    "print(df.pivot_table(values=\"Sales\", index=\"City\", columns=\"Year\", aggfunc=\"sum\"))\n"
   ]
  },
  {
   "cell_type": "code",
   "execution_count": 7,
   "id": "377f2825-0a8a-482c-8d9a-94532df9e9e2",
   "metadata": {},
   "outputs": [
    {
     "name": "stdout",
     "output_type": "stream",
     "text": [
      "   ID   Name  Age\n",
      "0   1  Alice   25\n",
      "1   2    Bob   30\n",
      "   ID   Name   Age\n",
      "0   1  Alice   NaN\n",
      "1   2    Bob   NaN\n",
      "0   1    NaN  25.0\n",
      "1   2    NaN  30.0\n",
      "   ID   Name  ID  Age\n",
      "0   1  Alice   1   25\n",
      "1   2    Bob   2   30\n",
      "     Name  Age\n",
      "ID            \n",
      "1   Alice   25\n",
      "2     Bob   30\n"
     ]
    }
   ],
   "source": [
    "df1 = pd.DataFrame({\"ID\": [1, 2], \"Name\": [\"Alice\", \"Bob\"]})\n",
    "df2 = pd.DataFrame({\"ID\": [1, 2], \"Age\": [25, 30]})\n",
    "\n",
    "print(pd.merge(df1, df2, on=\"ID\"))\n",
    "print(pd.concat([df1, df2], axis=0))   \n",
    "print(pd.concat([df1, df2], axis=1))   \n",
    "\n",
    "df1 = df1.set_index(\"ID\")\n",
    "df2 = df2.set_index(\"ID\")\n",
    "print(df1.join(df2))"
   ]
  },
  {
   "cell_type": "code",
   "execution_count": 9,
   "id": "fc83794f-feb6-48f3-86c8-a4acde04fc6f",
   "metadata": {},
   "outputs": [],
   "source": [
    "df.to_csv(\"industry.csv\", index=False)\n",
    "df.to_excel(\"industry.xlsx\", index=False)"
   ]
  }
 ],
 "metadata": {
  "kernelspec": {
   "display_name": "Python 3 (ipykernel)",
   "language": "python",
   "name": "python3"
  },
  "language_info": {
   "codemirror_mode": {
    "name": "ipython",
    "version": 3
   },
   "file_extension": ".py",
   "mimetype": "text/x-python",
   "name": "python",
   "nbconvert_exporter": "python",
   "pygments_lexer": "ipython3",
   "version": "3.13.5"
  }
 },
 "nbformat": 4,
 "nbformat_minor": 5
}
