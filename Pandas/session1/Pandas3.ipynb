{
 "cells": [
  {
   "cell_type": "code",
   "execution_count": null,
   "id": "08d6191e-5a52-44dc-a5e5-b57fc95a5f84",
   "metadata": {},
   "outputs": [],
   "source": [
    "#DATA INPUT AND OUTPUT (I/O)"
   ]
  },
  {
   "cell_type": "code",
   "execution_count": 1,
   "id": "d942de28",
   "metadata": {},
   "outputs": [
    {
     "data": {
      "text/html": [
       "<div>\n",
       "<style scoped>\n",
       "    .dataframe tbody tr th:only-of-type {\n",
       "        vertical-align: middle;\n",
       "    }\n",
       "\n",
       "    .dataframe tbody tr th {\n",
       "        vertical-align: top;\n",
       "    }\n",
       "\n",
       "    .dataframe thead th {\n",
       "        text-align: right;\n",
       "    }\n",
       "</style>\n",
       "<table border=\"1\" class=\"dataframe\">\n",
       "  <thead>\n",
       "    <tr style=\"text-align: right;\">\n",
       "      <th></th>\n",
       "      <th>City</th>\n",
       "      <th>Sales</th>\n",
       "      <th>Year</th>\n",
       "    </tr>\n",
       "  </thead>\n",
       "  <tbody>\n",
       "    <tr>\n",
       "      <th>0</th>\n",
       "      <td>Delhi</td>\n",
       "      <td>200</td>\n",
       "      <td>2023</td>\n",
       "    </tr>\n",
       "    <tr>\n",
       "      <th>1</th>\n",
       "      <td>Delhi</td>\n",
       "      <td>150</td>\n",
       "      <td>2024</td>\n",
       "    </tr>\n",
       "    <tr>\n",
       "      <th>2</th>\n",
       "      <td>Mumbai</td>\n",
       "      <td>300</td>\n",
       "      <td>2023</td>\n",
       "    </tr>\n",
       "    <tr>\n",
       "      <th>3</th>\n",
       "      <td>Mumbai</td>\n",
       "      <td>250</td>\n",
       "      <td>2024</td>\n",
       "    </tr>\n",
       "  </tbody>\n",
       "</table>\n",
       "</div>"
      ],
      "text/plain": [
       "     City  Sales  Year\n",
       "0   Delhi    200  2023\n",
       "1   Delhi    150  2024\n",
       "2  Mumbai    300  2023\n",
       "3  Mumbai    250  2024"
      ]
     },
     "execution_count": 1,
     "metadata": {},
     "output_type": "execute_result"
    }
   ],
   "source": [
    "import pandas as pd\n",
    "df = pd.read_csv('industry.csv')\n",
    "df"
   ]
  },
  {
   "cell_type": "code",
   "execution_count": 4,
   "id": "a1c69f14",
   "metadata": {},
   "outputs": [
    {
     "name": "stdout",
     "output_type": "stream",
     "text": [
      "     City  Sales\n",
      "0   Delhi    200\n",
      "1   Delhi    150\n",
      "2  Mumbai    300\n",
      "3  Mumbai    250\n"
     ]
    }
   ],
   "source": [
    "dm = pd.read_csv('industry.csv', usecols=['City', 'Sales'])\n",
    "print(dm)"
   ]
  },
  {
   "cell_type": "code",
   "execution_count": 11,
   "id": "2687afe9",
   "metadata": {},
   "outputs": [
    {
     "name": "stdout",
     "output_type": "stream",
     "text": [
      "     City  Sales  Year\n",
      "0   Delhi    200  2023\n",
      "1   Delhi    150  2024\n",
      "2  Mumbai    300  2023\n",
      "3  Mumbai    250  2024\n"
     ]
    }
   ],
   "source": [
    "df = pd.read_csv('industry.csv', na_values=[\"N/A\", \"Unknown\"])\n",
    "print(df)"
   ]
  },
  {
   "cell_type": "code",
   "execution_count": 12,
   "id": "34b8e01b",
   "metadata": {},
   "outputs": [
    {
     "name": "stdout",
     "output_type": "stream",
     "text": [
      "totalbill_tip, sex:smoker, day_time, size\n",
      "16.99, 1.01:Female|No, Sun, Dinner, 2\n",
      "10.34, 1.66, Male, No|Sun:Dinner, 3\n",
      "21.01:3.5_Male, No:Sun, Dinner, 3\n",
      "23.68, 3.31, Male|No, Sun_Dinner, 2\n",
      "24.59:3.61, Female_No, Sun, Dinner, 4\n",
      "25.29, 4.71|Male, No:Sun, Dinner, 4\n"
     ]
    }
   ],
   "source": [
    "import pandas as pd\n",
    "\n",
    "data = \"\"\"totalbill_tip, sex:smoker, day_time, size\n",
    "16.99, 1.01:Female|No, Sun, Dinner, 2\n",
    "10.34, 1.66, Male, No|Sun:Dinner, 3\n",
    "21.01:3.5_Male, No:Sun, Dinner, 3\n",
    "23.68, 3.31, Male|No, Sun_Dinner, 2\n",
    "24.59:3.61, Female_No, Sun, Dinner, 4\n",
    "25.29, 4.71|Male, No:Sun, Dinner, 4\"\"\"\n",
    "\n",
    "with open(\"sample.csv\", \"w\") as file:\n",
    "    file.write(data)\n",
    "print(data)"
   ]
  },
  {
   "cell_type": "code",
   "execution_count": 13,
   "id": "75931df4",
   "metadata": {},
   "outputs": [
    {
     "data": {
      "text/html": [
       "<div>\n",
       "<style scoped>\n",
       "    .dataframe tbody tr th:only-of-type {\n",
       "        vertical-align: middle;\n",
       "    }\n",
       "\n",
       "    .dataframe tbody tr th {\n",
       "        vertical-align: top;\n",
       "    }\n",
       "\n",
       "    .dataframe thead th {\n",
       "        text-align: right;\n",
       "    }\n",
       "</style>\n",
       "<table border=\"1\" class=\"dataframe\">\n",
       "  <thead>\n",
       "    <tr style=\"text-align: right;\">\n",
       "      <th></th>\n",
       "      <th>City</th>\n",
       "      <th>Sales</th>\n",
       "      <th>Year</th>\n",
       "    </tr>\n",
       "  </thead>\n",
       "  <tbody>\n",
       "    <tr>\n",
       "      <th>0</th>\n",
       "      <td>Delhi</td>\n",
       "      <td>200</td>\n",
       "      <td>2023</td>\n",
       "    </tr>\n",
       "    <tr>\n",
       "      <th>1</th>\n",
       "      <td>Delhi</td>\n",
       "      <td>150</td>\n",
       "      <td>2024</td>\n",
       "    </tr>\n",
       "    <tr>\n",
       "      <th>2</th>\n",
       "      <td>Mumbai</td>\n",
       "      <td>300</td>\n",
       "      <td>2023</td>\n",
       "    </tr>\n",
       "  </tbody>\n",
       "</table>\n",
       "</div>"
      ],
      "text/plain": [
       "     City  Sales  Year\n",
       "0   Delhi    200  2023\n",
       "1   Delhi    150  2024\n",
       "2  Mumbai    300  2023"
      ]
     },
     "execution_count": 13,
     "metadata": {},
     "output_type": "execute_result"
    }
   ],
   "source": [
    "df = pd.read_csv('industry.csv', nrows=3)\n",
    "df"
   ]
  },
  {
   "cell_type": "code",
   "execution_count": 16,
   "id": "3d591812",
   "metadata": {},
   "outputs": [
    {
     "name": "stdout",
     "output_type": "stream",
     "text": [
      "Previous Dataset: \n",
      "     City  Sales  Year\n",
      "0   Delhi    200  2023\n",
      "1   Delhi    150  2024\n",
      "2  Mumbai    300  2023\n",
      "3  Mumbai    250  2024\n",
      "Dataset After skipping rows: \n",
      "     City  Sales  Year\n",
      "0   Delhi    200  2023\n",
      "1   Delhi    150  2024\n",
      "2  Mumbai    300  2023\n"
     ]
    }
   ],
   "source": [
    "df= pd.read_csv(\"industry.csv\")\n",
    "print(\"Previous Dataset: \")\n",
    "print(df)\n",
    "# using skiprows\n",
    "df = pd.read_csv(\"industry.csv\", skiprows = [4,5])\n",
    "print(\"Dataset After skipping rows: \")\n",
    "print(df)"
   ]
  },
  {
   "cell_type": "code",
   "execution_count": 18,
   "id": "b980d108",
   "metadata": {},
   "outputs": [
    {
     "name": "stdout",
     "output_type": "stream",
     "text": [
      "<class 'pandas.core.frame.DataFrame'>\n",
      "RangeIndex: 4 entries, 0 to 3\n",
      "Data columns (total 3 columns):\n",
      " #   Column  Non-Null Count  Dtype \n",
      "---  ------  --------------  ----- \n",
      " 0   City    4 non-null      object\n",
      " 1   Sales   4 non-null      int64 \n",
      " 2   Year    4 non-null      int64 \n",
      "dtypes: int64(2), object(1)\n",
      "memory usage: 228.0+ bytes\n",
      "None\n",
      "<class 'pandas.core.frame.DataFrame'>\n",
      "RangeIndex: 4 entries, 0 to 3\n",
      "Data columns (total 3 columns):\n",
      " #   Column  Non-Null Count  Dtype \n",
      "---  ------  --------------  ----- \n",
      " 0   City    4 non-null      object\n",
      " 1   Sales   4 non-null      int64 \n",
      " 2   Year    4 non-null      int64 \n",
      "dtypes: int64(2), object(1)\n",
      "memory usage: 228.0+ bytes\n",
      "None\n"
     ]
    }
   ],
   "source": [
    "df = pd.read_csv('industry.csv')\n",
    "print(df.info())\n",
    "print(df.info())"
   ]
  },
  {
   "cell_type": "code",
   "execution_count": null,
   "id": "dd33473c",
   "metadata": {},
   "outputs": [
    {
     "data": {
      "text/html": [
       "<div>\n",
       "<style scoped>\n",
       "    .dataframe tbody tr th:only-of-type {\n",
       "        vertical-align: middle;\n",
       "    }\n",
       "\n",
       "    .dataframe tbody tr th {\n",
       "        vertical-align: top;\n",
       "    }\n",
       "\n",
       "    .dataframe thead th {\n",
       "        text-align: right;\n",
       "    }\n",
       "</style>\n",
       "<table border=\"1\" class=\"dataframe\">\n",
       "  <thead>\n",
       "    <tr style=\"text-align: right;\">\n",
       "      <th></th>\n",
       "      <th>First Name</th>\n",
       "      <th>Last Name</th>\n",
       "      <th>Sex</th>\n",
       "      <th>Email</th>\n",
       "      <th>Date of birth</th>\n",
       "      <th>Job Title</th>\n",
       "    </tr>\n",
       "  </thead>\n",
       "  <tbody>\n",
       "    <tr>\n",
       "      <th>0</th>\n",
       "      <td>Shelby</td>\n",
       "      <td>Terrell</td>\n",
       "      <td>Male</td>\n",
       "      <td>elijah57@example.net</td>\n",
       "      <td>1945-10-26</td>\n",
       "      <td>Games developer</td>\n",
       "    </tr>\n",
       "    <tr>\n",
       "      <th>1</th>\n",
       "      <td>Phillip</td>\n",
       "      <td>Summers</td>\n",
       "      <td>Female</td>\n",
       "      <td>bethany14@example.com</td>\n",
       "      <td>1910-03-24</td>\n",
       "      <td>Phytotherapist</td>\n",
       "    </tr>\n",
       "    <tr>\n",
       "      <th>2</th>\n",
       "      <td>Kristine</td>\n",
       "      <td>Travis</td>\n",
       "      <td>Male</td>\n",
       "      <td>bthompson@example.com</td>\n",
       "      <td>1992-07-02</td>\n",
       "      <td>Homeopath</td>\n",
       "    </tr>\n",
       "    <tr>\n",
       "      <th>3</th>\n",
       "      <td>Yesenia</td>\n",
       "      <td>Martinez</td>\n",
       "      <td>Male</td>\n",
       "      <td>kaitlinkaiser@example.com</td>\n",
       "      <td>2017-08-03</td>\n",
       "      <td>Market researcher</td>\n",
       "    </tr>\n",
       "    <tr>\n",
       "      <th>4</th>\n",
       "      <td>Lori</td>\n",
       "      <td>Todd</td>\n",
       "      <td>Male</td>\n",
       "      <td>buchananmanuel@example.net</td>\n",
       "      <td>1938-12-01</td>\n",
       "      <td>Veterinary surgeon</td>\n",
       "    </tr>\n",
       "  </tbody>\n",
       "</table>\n",
       "</div>"
      ],
      "text/plain": [
       "  First Name Last Name     Sex                       Email Date of birth  \\\n",
       "0     Shelby   Terrell    Male        elijah57@example.net    1945-10-26   \n",
       "1    Phillip   Summers  Female       bethany14@example.com    1910-03-24   \n",
       "2   Kristine    Travis    Male       bthompson@example.com    1992-07-02   \n",
       "3    Yesenia  Martinez    Male   kaitlinkaiser@example.com    2017-08-03   \n",
       "4       Lori      Todd    Male  buchananmanuel@example.net    1938-12-01   \n",
       "\n",
       "            Job Title  \n",
       "0     Games developer  \n",
       "1      Phytotherapist  \n",
       "2           Homeopath  \n",
       "3   Market researcher  \n",
       "4  Veterinary surgeon  "
      ]
     },
     "execution_count": 19,
     "metadata": {},
     "output_type": "execute_result"
    }
   ],
   "source": [
    "#read a csv data from url\n",
    "url = \"https://media.geeksforgeeks.org/wp-content/uploads/20241121154629307916/people_data.csv\"\n",
    "df = pd.read_csv(url)\n",
    "df"
   ]
  },
  {
   "cell_type": "code",
   "execution_count": null,
   "id": "bab019e8",
   "metadata": {},
   "outputs": [],
   "source": [
    "import pandas as pd\n",
    "\n",
    "nme = [\"aparna\", \"pankaj\", \"sudhir\", \"Geeku\"]\n",
    "deg = [\"MBA\", \"BCA\", \"M.Tech\", \"MBA\"]\n",
    "scr = [90, 40, 80, 98]\n",
    "\n",
    "data = {'name': nme, 'degree': deg, 'score': scr}\n",
    "\n",
    "df = pd.DataFrame(data)"
   ]
  },
  {
   "cell_type": "code",
   "execution_count": null,
   "id": "dce6d86e",
   "metadata": {},
   "outputs": [],
   "source": [
    "df.to_csv('file1.csv') #export csv to a working directory"
   ]
  },
  {
   "cell_type": "code",
   "execution_count": 22,
   "id": "0f0e57af",
   "metadata": {},
   "outputs": [],
   "source": [
    "#Saving file without header or index \n",
    "df.to_csv('file2.csv', header=False, index=False)"
   ]
  },
  {
   "cell_type": "code",
   "execution_count": 23,
   "id": "b1d09887",
   "metadata": {},
   "outputs": [
    {
     "name": "stdout",
     "output_type": "stream",
     "text": [
      "Original DataFrame:\n",
      "   Name  Age\n",
      "0  Amit   20\n",
      "1  Cody   21\n",
      "2  Drew   25\n",
      "Data from Users.csv:\n",
      "  Name\\tAge\n",
      "0  Amit\\t20\n",
      "1  Cody\\t21\n",
      "2  Drew\\t25\n"
     ]
    }
   ],
   "source": [
    "import pandas as pd\n",
    "import numpy as np\n",
    "\n",
    "users = {'Name': ['Amit', 'Cody', 'Drew'],\n",
    "    'Age': [20,21,25]}\n",
    "\n",
    "df = pd.DataFrame(users, columns=['Name','Age'])\n",
    "\n",
    "print(\"Original DataFrame:\")\n",
    "print(df)\n",
    "print('Data from Users.csv:')\n",
    "\n",
    "df.to_csv('Users.csv', sep='\\t', index=False,header=True)\n",
    "new_df = pd.read_csv('Users.csv')\n",
    "\n",
    "print(new_df)"
   ]
  },
  {
   "cell_type": "code",
   "execution_count": 24,
   "id": "f8027388",
   "metadata": {},
   "outputs": [],
   "source": [
    "#Exporting dataframe to csv\n",
    "df.to_csv(\"your_name.csv\")"
   ]
  },
  {
   "cell_type": "code",
   "execution_count": 25,
   "id": "a2eaadce",
   "metadata": {},
   "outputs": [],
   "source": [
    "#Customizing the csv export\n",
    "df.to_csv('your_name.csv', index = False)"
   ]
  },
  {
   "cell_type": "code",
   "execution_count": 26,
   "id": "24b060fa",
   "metadata": {},
   "outputs": [],
   "source": [
    "#export only selected columns\n",
    "df.to_csv(\"your_name.csv\", columns = ['Name'])\n"
   ]
  },
  {
   "cell_type": "code",
   "execution_count": 27,
   "id": "e7172852",
   "metadata": {},
   "outputs": [],
   "source": [
    "#Exclude Header row\n",
    "df.to_csv('your_name.csv', header = False)"
   ]
  },
  {
   "cell_type": "code",
   "execution_count": null,
   "id": "9bec17f7",
   "metadata": {},
   "outputs": [],
   "source": [
    "#Handling misssing data\n",
    "df.to_csv(\"your_name.csv\", na_rep = 'nothing')"
   ]
  },
  {
   "cell_type": "code",
   "execution_count": 28,
   "id": "21f6ae14",
   "metadata": {},
   "outputs": [],
   "source": [
    "#Chnage column separator\n",
    "df.to_csv(\"your_name.csv\", na_rep = 'nothing')"
   ]
  },
  {
   "cell_type": "code",
   "execution_count": 29,
   "id": "484f643e",
   "metadata": {},
   "outputs": [],
   "source": [
    "df.to_csv(\"your_name.csv\", sep ='\\t')"
   ]
  },
  {
   "cell_type": "code",
   "execution_count": 32,
   "id": "f4a23e28",
   "metadata": {},
   "outputs": [
    {
     "name": "stdout",
     "output_type": "stream",
     "text": [
      "\n",
      "DataFrame using JSON module and `pd.json_normalize()` method:\n"
     ]
    },
    {
     "data": {
      "text/html": [
       "<div>\n",
       "<style scoped>\n",
       "    .dataframe tbody tr th:only-of-type {\n",
       "        vertical-align: middle;\n",
       "    }\n",
       "\n",
       "    .dataframe tbody tr th {\n",
       "        vertical-align: top;\n",
       "    }\n",
       "\n",
       "    .dataframe thead th {\n",
       "        text-align: right;\n",
       "    }\n",
       "</style>\n",
       "<table border=\"1\" class=\"dataframe\">\n",
       "  <thead>\n",
       "    <tr style=\"text-align: right;\">\n",
       "      <th></th>\n",
       "      <th>One.0</th>\n",
       "      <th>One.1</th>\n",
       "      <th>One.2</th>\n",
       "      <th>One.3</th>\n",
       "      <th>One.4</th>\n",
       "      <th>One.5</th>\n",
       "      <th>Two.0</th>\n",
       "      <th>Two.1</th>\n",
       "      <th>Two.2</th>\n",
       "      <th>Two.3</th>\n",
       "      <th>Two.4</th>\n",
       "      <th>Two.5</th>\n",
       "    </tr>\n",
       "  </thead>\n",
       "  <tbody>\n",
       "    <tr>\n",
       "      <th>0</th>\n",
       "      <td>60</td>\n",
       "      <td>60</td>\n",
       "      <td>60</td>\n",
       "      <td>45</td>\n",
       "      <td>45</td>\n",
       "      <td>60</td>\n",
       "      <td>110</td>\n",
       "      <td>117</td>\n",
       "      <td>103</td>\n",
       "      <td>109</td>\n",
       "      <td>117</td>\n",
       "      <td>102</td>\n",
       "    </tr>\n",
       "  </tbody>\n",
       "</table>\n",
       "</div>"
      ],
      "text/plain": [
       "   One.0  One.1  One.2  One.3  One.4  One.5  Two.0  Two.1  Two.2  Two.3  \\\n",
       "0     60     60     60     45     45     60    110    117    103    109   \n",
       "\n",
       "   Two.4  Two.5  \n",
       "0    117    102  "
      ]
     },
     "execution_count": 32,
     "metadata": {},
     "output_type": "execute_result"
    }
   ],
   "source": [
    "#. Using json Module and pd.json_normalize() method\n",
    "import pandas as pd\n",
    "import json\n",
    "\n",
    "data = {\"One\": {\"0\": 60, \"1\": 60, \"2\": 60, \"3\": 45, \"4\": 45, \"5\": 60},\n",
    "        \"Two\": {\"0\": 110, \"1\": 117, \"2\": 103, \"3\": 109, \"4\": 117, \"5\": 102}}\n",
    "\n",
    "json_data = json.dumps(data)\n",
    "\n",
    "df_normalize = pd.json_normalize(json.loads(json_data))\n",
    "print(\"\\nDataFrame using JSON module and `pd.json_normalize()` method:\")\n",
    "df_normalize"
   ]
  },
  {
   "cell_type": "code",
   "execution_count": 33,
   "id": "debd4417",
   "metadata": {},
   "outputs": [
    {
     "name": "stdout",
     "output_type": "stream",
     "text": [
      "   One  Two\n",
      "0   60  110\n",
      "1   60  117\n",
      "2   60  103\n",
      "3   45  109\n",
      "4   45  117\n",
      "5   60  102\n"
     ]
    }
   ],
   "source": [
    "import pandas as pd\n",
    "df = pd.DataFrame(data)\n",
    "print(df)"
   ]
  },
  {
   "cell_type": "code",
   "execution_count": 34,
   "id": "9c4f3fc7",
   "metadata": {},
   "outputs": [
    {
     "name": "stdout",
     "output_type": "stream",
     "text": [
      "{\"columns\":[\"col 1\",\"col 2\"],\"index\":[\"row 1\",\"row 2\"],\"data\":[[\"a\",\"b\"],[\"c\",\"d\"]]}\n",
      "{\"row 1\":{\"col 1\":\"a\",\"col 2\":\"b\"},\"row 2\":{\"col 1\":\"c\",\"col 2\":\"d\"}}\n"
     ]
    }
   ],
   "source": [
    "df = pd.DataFrame([['a', 'b'], ['c', 'd']],\n",
    "                  index=['row 1', 'row 2'],\n",
    "                  columns=['col 1', 'col 2'])\n",
    "\n",
    "print(df.to_json(orient='split')) \n",
    "print(df.to_json(orient='index'))"
   ]
  },
  {
   "cell_type": "code",
   "execution_count": 35,
   "id": "f182830a",
   "metadata": {},
   "outputs": [
    {
     "data": {
      "text/html": [
       "<div>\n",
       "<style scoped>\n",
       "    .dataframe tbody tr th:only-of-type {\n",
       "        vertical-align: middle;\n",
       "    }\n",
       "\n",
       "    .dataframe tbody tr th {\n",
       "        vertical-align: top;\n",
       "    }\n",
       "\n",
       "    .dataframe thead th {\n",
       "        text-align: right;\n",
       "    }\n",
       "</style>\n",
       "<table border=\"1\" class=\"dataframe\">\n",
       "  <thead>\n",
       "    <tr style=\"text-align: right;\">\n",
       "      <th></th>\n",
       "      <th>userId</th>\n",
       "      <th>id</th>\n",
       "      <th>title</th>\n",
       "      <th>body</th>\n",
       "    </tr>\n",
       "  </thead>\n",
       "  <tbody>\n",
       "    <tr>\n",
       "      <th>0</th>\n",
       "      <td>1</td>\n",
       "      <td>1</td>\n",
       "      <td>sunt aut facere repellat provident occaecati e...</td>\n",
       "      <td>quia et suscipit\\nsuscipit recusandae consequu...</td>\n",
       "    </tr>\n",
       "    <tr>\n",
       "      <th>1</th>\n",
       "      <td>1</td>\n",
       "      <td>2</td>\n",
       "      <td>qui est esse</td>\n",
       "      <td>est rerum tempore vitae\\nsequi sint nihil repr...</td>\n",
       "    </tr>\n",
       "    <tr>\n",
       "      <th>2</th>\n",
       "      <td>1</td>\n",
       "      <td>3</td>\n",
       "      <td>ea molestias quasi exercitationem repellat qui...</td>\n",
       "      <td>et iusto sed quo iure\\nvoluptatem occaecati om...</td>\n",
       "    </tr>\n",
       "    <tr>\n",
       "      <th>3</th>\n",
       "      <td>1</td>\n",
       "      <td>4</td>\n",
       "      <td>eum et est occaecati</td>\n",
       "      <td>ullam et saepe reiciendis voluptatem adipisci\\...</td>\n",
       "    </tr>\n",
       "    <tr>\n",
       "      <th>4</th>\n",
       "      <td>1</td>\n",
       "      <td>5</td>\n",
       "      <td>nesciunt quas odio</td>\n",
       "      <td>repudiandae veniam quaerat sunt sed\\nalias aut...</td>\n",
       "    </tr>\n",
       "  </tbody>\n",
       "</table>\n",
       "</div>"
      ],
      "text/plain": [
       "   userId  id                                              title  \\\n",
       "0       1   1  sunt aut facere repellat provident occaecati e...   \n",
       "1       1   2                                       qui est esse   \n",
       "2       1   3  ea molestias quasi exercitationem repellat qui...   \n",
       "3       1   4                               eum et est occaecati   \n",
       "4       1   5                                 nesciunt quas odio   \n",
       "\n",
       "                                                body  \n",
       "0  quia et suscipit\\nsuscipit recusandae consequu...  \n",
       "1  est rerum tempore vitae\\nsequi sint nihil repr...  \n",
       "2  et iusto sed quo iure\\nvoluptatem occaecati om...  \n",
       "3  ullam et saepe reiciendis voluptatem adipisci\\...  \n",
       "4  repudiandae veniam quaerat sunt sed\\nalias aut...  "
      ]
     },
     "execution_count": 35,
     "metadata": {},
     "output_type": "execute_result"
    }
   ],
   "source": [
    "import pandas as pd\n",
    "import requests\n",
    "\n",
    "url = 'https://jsonplaceholder.typicode.com/posts'\n",
    "response = requests.get(url)\n",
    "\n",
    "data = pd.json_normalize(response.json())\n",
    "data.head()"
   ]
  },
  {
   "cell_type": "code",
   "execution_count": null,
   "id": "8c50d939",
   "metadata": {},
   "outputs": [],
   "source": [
    "import json  \n",
    "import pandas as pd  \n",
    "from pandas import json_normalize  \n",
    "\n",
    "with open('/content/raw_nyc_phil.json') as f:\n",
    "    d = json.load(f)\n",
    "\n",
    "nycphil = json_normalize(d['programs'])\n",
    "nycphil.head(3)"
   ]
  },
  {
   "cell_type": "code",
   "execution_count": 37,
   "id": "5e078d3c",
   "metadata": {},
   "outputs": [
    {
     "name": "stdout",
     "output_type": "stream",
     "text": [
      "      ID    NAME DATE OF JOINING\n",
      "0  15135    Alex       25/4/2014\n",
      "1  23515     Bob       26/8/2018\n",
      "2  31313  Martha       18/1/2019\n",
      "3  55665    Alen        5/5/2020\n",
      "4  63513   Maria       9/12/2020\n"
     ]
    }
   ],
   "source": [
    "import pandas as pd\n",
    "\n",
    "df = pd.DataFrame(data=[\n",
    "    ['15135', 'Alex', '25/4/2014'],\n",
    "    ['23515', 'Bob', '26/8/2018'],\n",
    "    ['31313', 'Martha', '18/1/2019'],\n",
    "    ['55665', 'Alen', '5/5/2020'],\n",
    "    ['63513', 'Maria', '9/12/2020']],\n",
    "    columns=['ID', 'NAME', 'DATE OF JOINING'])\n",
    "\n",
    "df.to_json('file1.json', orient='split', compression='infer')\n",
    "\n",
    "df = pd.read_json('file1.json', orient='split', compression='infer')\n",
    "print(df)"
   ]
  },
  {
   "cell_type": "code",
   "execution_count": 38,
   "id": "f4660464",
   "metadata": {},
   "outputs": [],
   "source": [
    "df.to_json('file.json', orient='records')"
   ]
  },
  {
   "cell_type": "code",
   "execution_count": 39,
   "id": "ab184b72",
   "metadata": {},
   "outputs": [
    {
     "data": {
      "text/html": [
       "<div>\n",
       "<style scoped>\n",
       "    .dataframe tbody tr th:only-of-type {\n",
       "        vertical-align: middle;\n",
       "    }\n",
       "\n",
       "    .dataframe tbody tr th {\n",
       "        vertical-align: top;\n",
       "    }\n",
       "\n",
       "    .dataframe thead th {\n",
       "        text-align: right;\n",
       "    }\n",
       "</style>\n",
       "<table border=\"1\" class=\"dataframe\">\n",
       "  <thead>\n",
       "    <tr style=\"text-align: right;\">\n",
       "      <th></th>\n",
       "      <th>City</th>\n",
       "      <th>Sales</th>\n",
       "      <th>Year</th>\n",
       "    </tr>\n",
       "  </thead>\n",
       "  <tbody>\n",
       "    <tr>\n",
       "      <th>0</th>\n",
       "      <td>Delhi</td>\n",
       "      <td>200</td>\n",
       "      <td>2023</td>\n",
       "    </tr>\n",
       "    <tr>\n",
       "      <th>1</th>\n",
       "      <td>Delhi</td>\n",
       "      <td>150</td>\n",
       "      <td>2024</td>\n",
       "    </tr>\n",
       "    <tr>\n",
       "      <th>2</th>\n",
       "      <td>Mumbai</td>\n",
       "      <td>300</td>\n",
       "      <td>2023</td>\n",
       "    </tr>\n",
       "    <tr>\n",
       "      <th>3</th>\n",
       "      <td>Mumbai</td>\n",
       "      <td>250</td>\n",
       "      <td>2024</td>\n",
       "    </tr>\n",
       "  </tbody>\n",
       "</table>\n",
       "</div>"
      ],
      "text/plain": [
       "     City  Sales  Year\n",
       "0   Delhi    200  2023\n",
       "1   Delhi    150  2024\n",
       "2  Mumbai    300  2023\n",
       "3  Mumbai    250  2024"
      ]
     },
     "execution_count": 39,
     "metadata": {},
     "output_type": "execute_result"
    }
   ],
   "source": [
    "import pandas as pd\n",
    "df = pd.read_excel('output.xlsx')\n",
    "df"
   ]
  },
  {
   "cell_type": "code",
   "execution_count": 48,
   "id": "0cc2b6e8",
   "metadata": {},
   "outputs": [
    {
     "name": "stdout",
     "output_type": "stream",
     "text": [
      "Empty DataFrame\n",
      "Columns: [\"my, name, is, gunja, mahapatra\"]\n",
      "Index: []\n"
     ]
    }
   ],
   "source": [
    "#The fwf in the read_fwf() function stands for fixed-width lines. We can use this function to load DataFrames\n",
    "# from files. This function also supports text files. \n",
    "# Read Text Files with Pandas using read_fwf()\n",
    "\n",
    "import pandas as pd\n",
    "\n",
    "df = pd.read_fwf(\"hello.txt\")\n",
    "print(df)\n"
   ]
  },
  {
   "cell_type": "code",
   "execution_count": 51,
   "id": "ae16c424",
   "metadata": {},
   "outputs": [],
   "source": [
    "#Converting text files to csv\n",
    "import pandas as pd\n",
    "\n",
    "df1 = pd.read_csv(\"hello.txt\")\n",
    "\n",
    "df1.to_csv('hello.csv', index = None)\n",
    "\n",
    "websites = pd.read_csv(\"hello.txt\", header = None)\n",
    "\n",
    "# try splitting the single-column frame into three columns using common delimiters\n",
    "parts = websites[0].str.split(',', expand=True)\n",
    "if parts.shape[1] < 3:\n",
    "  parts = websites[0].str.split(r'\\s+', n=2, expand=True)  # fallback: split on whitespace into up to 3 parts\n",
    "\n",
    "# ensure we have exactly 3 columns and assign names\n",
    "parts = parts.iloc[:, :3]\n",
    "parts.columns = ['Name', 'Type', 'Website']\n",
    "websites = parts\n",
    "\n",
    "websites.to_csv('hello.csv', index = None)"
   ]
  },
  {
   "cell_type": "code",
   "execution_count": 49,
   "id": "9241163f",
   "metadata": {},
   "outputs": [],
   "source": [
    "import pandas as pd\n",
    "\n",
    "account = pd.read_csv(\"hello.txt\", delimiter = '/')\n",
    "account.to_csv('hello.csv', index = None)"
   ]
  }
 ],
 "metadata": {
  "kernelspec": {
   "display_name": "base",
   "language": "python",
   "name": "python3"
  },
  "language_info": {
   "codemirror_mode": {
    "name": "ipython",
    "version": 3
   },
   "file_extension": ".py",
   "mimetype": "text/x-python",
   "name": "python",
   "nbconvert_exporter": "python",
   "pygments_lexer": "ipython3",
   "version": "3.13.5"
  }
 },
 "nbformat": 4,
 "nbformat_minor": 5
}
