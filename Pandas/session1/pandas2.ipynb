{
 "cells": [
  {
   "cell_type": "code",
   "execution_count": null,
   "id": "ba8f9944-2160-469e-b81b-e4791671f75c",
   "metadata": {},
   "outputs": [],
   "source": [
    "#Dataframes\n",
    " #comes is a powerful tool that allows us to store and manipulate data in a structured way, similar to an Excel\n",
    " #  spreadsheet or a SQL table"
   ]
  },
  {
   "cell_type": "code",
   "execution_count": 2,
   "id": "7e3f313d",
   "metadata": {},
   "outputs": [
    {
     "name": "stdout",
     "output_type": "stream",
     "text": [
      "Empty DataFrame\n",
      "Columns: []\n",
      "Index: []\n"
     ]
    }
   ],
   "source": [
    "#empty dataFrame\n",
    "import pandas as pd\n",
    "df = pd.DataFrame()\n",
    "print(df)\n"
   ]
  },
  {
   "cell_type": "code",
   "execution_count": null,
   "id": "f721ccc3",
   "metadata": {},
   "outputs": [
    {
     "name": "stdout",
     "output_type": "stream",
     "text": [
      "          0\n",
      "0         1\n",
      "1         2\n",
      "2         3\n",
      "3         4\n",
      "4    kernel\n",
      "5  khureshi\n"
     ]
    }
   ],
   "source": [
    "import pandas as pd\n",
    "lst = [1 , 2, 3, 4 , \"kernel\" , \"khureshi\"] #unamed column name\n",
    "df = pd.DataFrame(lst)\n",
    "print(df)\n"
   ]
  },
  {
   "cell_type": "code",
   "execution_count": null,
   "id": "770bc876",
   "metadata": {},
   "outputs": [
    {
     "name": "stdout",
     "output_type": "stream",
     "text": [
      "   col1  col2  col3\n",
      "0     1     2     3\n",
      "1     4     5     6\n",
      "2     7     8     9\n"
     ]
    }
   ],
   "source": [
    "import numpy as np\n",
    "import pandas as pd\n",
    "data = np.array([[1,2,3] , [4,5,6] , [7,8,9]])\n",
    "df = pd.DataFrame(data , columns = ['col1' , 'col2' , 'col3'] ) # named columns\n",
    "print(df)\n",
    "\n"
   ]
  },
  {
   "cell_type": "code",
   "execution_count": 6,
   "id": "1e1968a0",
   "metadata": {},
   "outputs": [
    {
     "name": "stdout",
     "output_type": "stream",
     "text": [
      "    Name  Age       city\n",
      "0  Alice   23      Delhi\n",
      "1    Bob   67     Mumbai\n",
      "2  Donga   78  dheradhun\n"
     ]
    }
   ],
   "source": [
    "import pandas as pd\n",
    "data = {'Name' : ['Alice' , 'Bob' , 'Donga'] , 'Age' : [23 , 67 , 78] , 'city' : ['Delhi' , 'Mumbai' , 'dheradhun']}\n",
    "df = pd.DataFrame(data)\n",
    "print(df)"
   ]
  },
  {
   "cell_type": "code",
   "execution_count": 7,
   "id": "62e4ccc5",
   "metadata": {},
   "outputs": [
    {
     "name": "stdout",
     "output_type": "stream",
     "text": [
      "     Name  age      city Gender\n",
      "a   Alice   23     delhi      F\n",
      "b     Bob   45    Harish      M\n",
      "c  Gunjan   67  Kanakpur      F\n",
      "d   Alice   89    Mumbai      M\n"
     ]
    }
   ],
   "source": [
    "#Dataframes Index\n",
    "import pandas as pd\n",
    "data = {'Name' : ['Alice' , 'Bob' , 'Gunjan' , 'Alice'] , 'age' : [23 , 45 , 67 , 89] , 'city' : ['delhi' , 'Harish' , 'Kanakpur' , 'Mumbai'],\n",
    "        'Gender' : ['F' , 'M' , 'F' , 'M']}\n",
    "df = pd.DataFrame(data , index = ['a' , 'b' , 'c' , 'd'])\n",
    "print(df)"
   ]
  },
  {
   "cell_type": "code",
   "execution_count": 8,
   "id": "5aa2729b",
   "metadata": {},
   "outputs": [
    {
     "name": "stdout",
     "output_type": "stream",
     "text": [
      "        age      city Gender\n",
      "Name                        \n",
      "Alice    23     delhi      F\n",
      "Bob      45    Harish      M\n",
      "Gunjan   67  Kanakpur      F\n",
      "Alice    89    Mumbai      M\n"
     ]
    }
   ],
   "source": [
    "df_name_index = df.set_index('Name')\n",
    "print(df_name_index)"
   ]
  },
  {
   "cell_type": "code",
   "execution_count": 10,
   "id": "689204b5",
   "metadata": {},
   "outputs": [
    {
     "name": "stdout",
     "output_type": "stream",
     "text": [
      "    Name  age    city Gender\n",
      "a  Alice   23   delhi      F\n",
      "d  Alice   89  Mumbai      M\n"
     ]
    }
   ],
   "source": [
    "#Indexing with loc\n",
    "print(df.loc[df['Name'] == 'Alice'])"
   ]
  },
  {
   "cell_type": "code",
   "execution_count": null,
   "id": "d84bf26f",
   "metadata": {},
   "outputs": [],
   "source": [
    "#Pandas Access DataFrames"
   ]
  },
  {
   "cell_type": "code",
   "execution_count": null,
   "id": "bd7e7ef4",
   "metadata": {},
   "outputs": [
    {
     "name": "stdout",
     "output_type": "stream",
     "text": [
      "Name      Alice\n",
      "age          23\n",
      "city      delhi\n",
      "Gender        F\n",
      "Name: 0, dtype: object\n",
      "0     Alice\n",
      "1       Bob\n",
      "2    Gunjan\n",
      "3      Manu\n",
      "Name: Name, dtype: object\n"
     ]
    }
   ],
   "source": [
    "data2 = {\n",
    "  'Name': ['Alice', 'Bob', 'Gunjan', 'Manu'],\n",
    "  'age': [23, 45, 67, 89],\n",
    "  'city': ['delhi', 'Harish', 'Kanakpur', 'Mumbai'],\n",
    "  'Gender': ['F', 'M', 'F', 'M']\n",
    "}\n",
    "\n",
    "df2 = pd.DataFrame(data2)\n",
    "#accessing via row\n",
    "print(df2.iloc[0]) #first row - iloc for index based labelling\n",
    "#accessing via column\n",
    "print(df2['Name']) #name column\n"
   ]
  },
  {
   "cell_type": "code",
   "execution_count": 14,
   "id": "a00f8468",
   "metadata": {},
   "outputs": [
    {
     "name": "stdout",
     "output_type": "stream",
     "text": [
      "     Name  age\n",
      "a   Alice   23\n",
      "b     Bob   45\n",
      "c  Gunjan   67\n"
     ]
    }
   ],
   "source": [
    "subset = df.iloc[0:3][['Name', 'age']]\n",
    "print(subset)"
   ]
  },
  {
   "cell_type": "code",
   "execution_count": 16,
   "id": "71e02461",
   "metadata": {},
   "outputs": [
    {
     "name": "stdout",
     "output_type": "stream",
     "text": [
      "     Name  age      city Gender\n",
      "b     Bob   45    Harish      M\n",
      "c  Gunjan   67  Kanakpur      F\n",
      "d   Alice   89    Mumbai      M\n"
     ]
    }
   ],
   "source": [
    "# Access rows where 'Age' is greater than 25\n",
    "filtered_data = df[df['age'] > 25]\n",
    "print(filtered_data)"
   ]
  },
  {
   "cell_type": "code",
   "execution_count": 20,
   "id": "54bf51b1",
   "metadata": {},
   "outputs": [
    {
     "name": "stdout",
     "output_type": "stream",
     "text": [
      "70000\n"
     ]
    }
   ],
   "source": [
    "# Access the 'Salary' of the row with label 2\n",
    "\n",
    "df['Salary'] = [50000, 60000, 70000, 80000]  # Example salaries\n",
    "salary_at_index_2 = df.at['c', 'Salary']\n",
    "print(salary_at_index_2)"
   ]
  },
  {
   "cell_type": "code",
   "execution_count": null,
   "id": "f72f46f6",
   "metadata": {},
   "outputs": [],
   "source": [
    "#Indexing and selecting data"
   ]
  },
  {
   "cell_type": "code",
   "execution_count": 24,
   "id": "30d65b3a",
   "metadata": {},
   "outputs": [
    {
     "name": "stdout",
     "output_type": "stream",
     "text": [
      "     City  Sales  Year\n",
      "0   Delhi    200  2023\n",
      "1   Delhi    150  2024\n",
      "2  Mumbai    300  2023\n",
      "3  Mumbai    250  2024\n",
      "     City  Sales  Year\n",
      "0   Delhi    200  2023\n",
      "1   Delhi    150  2024\n",
      "2  Mumbai    300  2023\n",
      "3  Mumbai    250  2024\n",
      "0     Delhi\n",
      "1     Delhi\n",
      "2    Mumbai\n",
      "3    Mumbai\n",
      "Name: City, dtype: object\n"
     ]
    }
   ],
   "source": [
    "import pandas as pd\n",
    "data = pd.read_csv('industry.csv')\n",
    "print(data.head())\n",
    "print(data.tail())\n",
    "\n",
    "first = data['City']\n",
    "print(first)"
   ]
  },
  {
   "cell_type": "code",
   "execution_count": 26,
   "id": "cbc987e1",
   "metadata": {},
   "outputs": [
    {
     "name": "stdout",
     "output_type": "stream",
     "text": [
      "    City  Sales  Year\n",
      "0  Delhi    200  2023\n",
      "1  Delhi    150  2024\n"
     ]
    }
   ],
   "source": [
    "row = data[data['City'] == \"Delhi\"]\n",
    "print(row)"
   ]
  },
  {
   "cell_type": "code",
   "execution_count": 27,
   "id": "60e0f72a",
   "metadata": {},
   "outputs": [
    {
     "name": "stdout",
     "output_type": "stream",
     "text": [
      "     City  Sales  Year\n",
      "2  Mumbai    300  2023\n",
      "3  Mumbai    250  2024\n"
     ]
    }
   ],
   "source": [
    "result = data.query(\"Sales > 200 and City == 'Mumbai'\")\n",
    "print(result)"
   ]
  },
  {
   "cell_type": "code",
   "execution_count": null,
   "id": "46a9b85f",
   "metadata": {},
   "outputs": [],
   "source": [
    "#Slicing Pandas Dataframe \n",
    "player_list = [['M.S.Dhoni', 36, 75, 5428000],\n",
    "               ['A.B.D Villers', 38, 74, 3428000],\n",
    "               ['V.Kohli', 31, 70, 8428000],\n",
    "               ['S.Smith', 34, 80, 4428000],\n",
    "               ['C.Gayle', 40, 100, 4528000],\n",
    "               ['J.Root', 33, 72, 7028000],\n",
    "               ['K.Peterson', 42, 85, 2528000]]\n",
    "\n",
    "df = pd.DataFrame(player_list, columns=['Name', 'Age', 'Weight', 'Salary'])\n",
    "print(df) "
   ]
  },
  {
   "cell_type": "code",
   "execution_count": 28,
   "id": "c4a866df",
   "metadata": {},
   "outputs": [
    {
     "name": "stdout",
     "output_type": "stream",
     "text": [
      "     Name  age      city Gender  Salary\n",
      "a   Alice   23     delhi      F   50000\n",
      "b     Bob   45    Harish      M   60000\n",
      "c  Gunjan   67  Kanakpur      F   70000\n",
      "d   Alice   89    Mumbai      M   80000\n"
     ]
    }
   ],
   "source": [
    "df1 = df.iloc[0:4]\n",
    "print(df1)"
   ]
  },
  {
   "cell_type": "code",
   "execution_count": 1,
   "id": "efd8ddd6",
   "metadata": {},
   "outputs": [
    {
     "data": {
      "text/html": [
       "<div>\n",
       "<style scoped>\n",
       "    .dataframe tbody tr th:only-of-type {\n",
       "        vertical-align: middle;\n",
       "    }\n",
       "\n",
       "    .dataframe tbody tr th {\n",
       "        vertical-align: top;\n",
       "    }\n",
       "\n",
       "    .dataframe thead th {\n",
       "        text-align: right;\n",
       "    }\n",
       "</style>\n",
       "<table border=\"1\" class=\"dataframe\">\n",
       "  <thead>\n",
       "    <tr style=\"text-align: right;\">\n",
       "      <th></th>\n",
       "      <th>Name</th>\n",
       "      <th>JOB</th>\n",
       "    </tr>\n",
       "  </thead>\n",
       "  <tbody>\n",
       "    <tr>\n",
       "      <th>0</th>\n",
       "      <td>RACHEL</td>\n",
       "      <td>DESIGNER</td>\n",
       "    </tr>\n",
       "  </tbody>\n",
       "</table>\n",
       "</div>"
      ],
      "text/plain": [
       "        Name       JOB\n",
       "0   RACHEL    DESIGNER"
      ]
     },
     "metadata": {},
     "output_type": "display_data"
    }
   ],
   "source": [
    "#Filtering DataFrames\n",
    "import pandas as pd\n",
    "\n",
    "dataFrame = pd.DataFrame({'Name': [' RACHEL  ', ' MONICA  ', ' PHOEBE  ',\n",
    "                                   '  ROSS    ', 'CHANDLER', ' JOEY    '],\n",
    "                          \n",
    "                          'Age': [30, 35, 37, 33, 34, 30],\n",
    "                          \n",
    "                          'Salary': [100000, 93000, 88000, 120000, 94000, 95000],\n",
    "                          \n",
    "                          'JOB': ['DESIGNER', 'CHEF', 'MASUS', 'PALENTOLOGY',\n",
    "                                  'IT', 'ARTIST']})\n",
    "\n",
    "display(dataFrame.loc[(dataFrame['Salary']>=100000) & (dataFrame['Age']< 40) & (dataFrame['JOB'].str.startswith('D')),\n",
    "                    ['Name','JOB']])"
   ]
  },
  {
   "cell_type": "code",
   "execution_count": null,
   "id": "3a16f226",
   "metadata": {},
   "outputs": [
    {
     "name": "stdout",
     "output_type": "stream",
     "text": [
      "(array([0]),)\n"
     ]
    },
    {
     "data": {
      "text/html": [
       "<div>\n",
       "<style scoped>\n",
       "    .dataframe tbody tr th:only-of-type {\n",
       "        vertical-align: middle;\n",
       "    }\n",
       "\n",
       "    .dataframe tbody tr th {\n",
       "        vertical-align: top;\n",
       "    }\n",
       "\n",
       "    .dataframe thead th {\n",
       "        text-align: right;\n",
       "    }\n",
       "</style>\n",
       "<table border=\"1\" class=\"dataframe\">\n",
       "  <thead>\n",
       "    <tr style=\"text-align: right;\">\n",
       "      <th></th>\n",
       "      <th>Name</th>\n",
       "      <th>Age</th>\n",
       "      <th>Salary</th>\n",
       "      <th>JOB</th>\n",
       "    </tr>\n",
       "  </thead>\n",
       "  <tbody>\n",
       "    <tr>\n",
       "      <th>0</th>\n",
       "      <td>RACHEL</td>\n",
       "      <td>30</td>\n",
       "      <td>100000</td>\n",
       "      <td>DESIGNER</td>\n",
       "    </tr>\n",
       "  </tbody>\n",
       "</table>\n",
       "</div>"
      ],
      "text/plain": [
       "        Name  Age  Salary       JOB\n",
       "0   RACHEL     30  100000  DESIGNER"
      ]
     },
     "metadata": {},
     "output_type": "display_data"
    }
   ],
   "source": [
    "#Filtering using numpy\n",
    "import pandas as pd\n",
    "import numpy as np\n",
    "\n",
    "dataFrame = pd.DataFrame({'Name': [' RACHEL  ', ' MONICA  ', ' PHOEBE  ',\n",
    "                                   '  ROSS    ', 'CHANDLER', ' JOEY    '],\n",
    "                          \n",
    "                          'Age': [30, 35, 37, 33, 34, 30],\n",
    "                          \n",
    "                          'Salary': [100000, 93000, 88000, 120000, 94000, 95000],\n",
    "                          \n",
    "                          'JOB': ['DESIGNER', 'CHEF', 'MASUS', 'PALENTOLOGY',\n",
    "                                  'IT', 'ARTIST']})\n",
    "                                  \n",
    "filtered_values = np.where((dataFrame['Salary']>=100000) & (dataFrame['Age']< 40) & (dataFrame['JOB'].str.startswith('D')))\n",
    "print(filtered_values)\n",
    "display(dataFrame.loc[filtered_values])"
   ]
  },
  {
   "cell_type": "code",
   "execution_count": 3,
   "id": "3d1fab63",
   "metadata": {},
   "outputs": [
    {
     "data": {
      "text/html": [
       "<div>\n",
       "<style scoped>\n",
       "    .dataframe tbody tr th:only-of-type {\n",
       "        vertical-align: middle;\n",
       "    }\n",
       "\n",
       "    .dataframe tbody tr th {\n",
       "        vertical-align: top;\n",
       "    }\n",
       "\n",
       "    .dataframe thead th {\n",
       "        text-align: right;\n",
       "    }\n",
       "</style>\n",
       "<table border=\"1\" class=\"dataframe\">\n",
       "  <thead>\n",
       "    <tr style=\"text-align: right;\">\n",
       "      <th></th>\n",
       "      <th>Name</th>\n",
       "      <th>Age</th>\n",
       "      <th>Salary</th>\n",
       "      <th>JOB</th>\n",
       "    </tr>\n",
       "  </thead>\n",
       "  <tbody>\n",
       "    <tr>\n",
       "      <th>1</th>\n",
       "      <td>MONICA</td>\n",
       "      <td>35</td>\n",
       "      <td>93000</td>\n",
       "      <td>CHEF</td>\n",
       "    </tr>\n",
       "  </tbody>\n",
       "</table>\n",
       "</div>"
      ],
      "text/plain": [
       "        Name  Age  Salary   JOB\n",
       "1   MONICA     35   93000  CHEF"
      ]
     },
     "metadata": {},
     "output_type": "display_data"
    }
   ],
   "source": [
    "#Filtering using query()\n",
    "import pandas as pd\n",
    "\n",
    "dataFrame = pd.DataFrame({'Name': [' RACHEL  ', ' MONICA  ', ' PHOEBE  ',\n",
    "                                   '  ROSS    ', 'CHANDLER', ' JOEY    '],\n",
    "                          \n",
    "                          'Age': [30, 35, 37, 33, 34, 30],\n",
    "                          \n",
    "                          'Salary': [100000, 93000, 88000, 120000, 94000, 95000],\n",
    "                          \n",
    "                          'JOB': ['DESIGNER', 'CHEF', 'MASUS', 'PALENTOLOGY',\n",
    "                                  'IT', 'ARTIST']})\n",
    "\n",
    "display(dataFrame.query('Salary  <= 100000 & Age < 40 & JOB.str.startswith(\"C\").values'))"
   ]
  },
  {
   "cell_type": "code",
   "execution_count": null,
   "id": "9b31605c",
   "metadata": {},
   "outputs": [],
   "source": [
    "import pandas as pd\n",
    "\n",
    "data1 = {'Name': ['Jai', 'Princi', 'Gaurav', 'Anuj'],\n",
    "         'Age': [27, 24, 22, 32],\n",
    "         'Address': ['Nagpur', 'Kanpur', 'Allahabad', 'Kannuaj'],\n",
    "         'Qualification': ['Msc', 'MA', 'MCA', 'Phd']}\n",
    "\n",
    "data2 = {'Name': ['Abhi', 'Ayushi', 'Dhiraj', 'Hitesh'],\n",
    "         'Age': [17, 14, 12, 52],\n",
    "         'Address': ['Nagpur', 'Kanpur', 'Allahabad', 'Kannuaj'],\n",
    "         'Qualification': ['Btech', 'B.A', 'Bcom', 'B.hons']}\n",
    "\n",
    "df = pd.DataFrame(data1, index=[0, 1, 2, 3])\n",
    "\n",
    "df1 = pd.DataFrame(data2, index=[4, 5, 6, 7])\n",
    "\n",
    "frames = [df, df1]\n",
    "res1 = pd.concat(frames)\n",
    "\n",
    "res2 = pd.concat([df, df1], axis=1, join='inner') #only common values\n",
    "res3 = pd.concat([df, df1], axis=1, sort=False) #all values\n",
    "res4 = pd.concat([df, df1], ignore_index=True) #ignore index - when indexes of original dataframe are not relevent we ignore them\n",
    "res5 = pd.concat(frames, keys=['x', 'y']) # labels each group based on sourced dataframe\n",
    "\n"
   ]
  },
  {
   "cell_type": "code",
   "execution_count": null,
   "id": "ef5fa709",
   "metadata": {},
   "outputs": [],
   "source": [
    "#Merging DataFrames\n",
    "import pandas as pd\n",
    "\n",
    "data1 = {'key': ['K0', 'K1', 'K2', 'K3'],\n",
    "         'Name':['Jai', 'Princi', 'Gaurav', 'Anuj'],\n",
    "        'Age':[27, 24, 22, 32],}\n",
    "\n",
    "data2 = {'key': ['K0', 'K1', 'K2', 'K3'],\n",
    "         'Address':['Nagpur', 'Kanpur', 'Allahabad', 'Kannuaj'],\n",
    "        'Qualification':['Btech', 'B.A', 'Bcom', 'B.hons']}\n",
    "\n",
    "df = pd.DataFrame(data1)\n",
    "\n",
    "df1 = pd.DataFrame(data2)\n",
    "\n",
    "res1 = pd.merge(df, df1, on=['key', 'key1']) #using on argument\n",
    "\n",
    "#Merging using how argument\n",
    "res1 = pd.merge(df, df1, how='right', on=['key', 'key1'])\n",
    "res2 = pd.merge(df, df1, how='outer', on=['key', 'key1'])\n",
    "res3 = pd.merge(df, df1, how='inner', on=['key', 'key1'])\n",
    "#join\n",
    "res = df.join(df1)\n",
    "res2 = df.join(df1, on='Key')\n",
    "\n",
    "\n",
    "\n"
   ]
  },
  {
   "cell_type": "code",
   "execution_count": null,
   "id": "6158d638",
   "metadata": {},
   "outputs": [],
   "source": [
    "#Joining DataFrames using multi_index_levels\n",
    "import pandas as pd\n",
    "\n",
    "data1 = {'Name':['Jai', 'Princi', 'Gaurav'],\n",
    "        'Age':[27, 24, 22]}\n",
    "\n",
    "data2 = {'Address':['Allahabad', 'Kannuaj', 'Allahabad', 'Kanpur'],\n",
    "        'Qualification':['MCA', 'Phd', 'Bcom', 'B.hons']}\n",
    "\n",
    "df = pd.DataFrame(data1, index=pd.Index(['K0', 'K1', 'K2'], name='key'))\n",
    "\n",
    "index = pd.MultiIndex.from_tuples([('K0', 'Y0'), ('K1', 'Y1'),\n",
    "                                   ('K2', 'Y2'), ('K2', 'Y3')],\n",
    "                                   names=['key', 'Y'])\n",
    "\n",
    "df1 = pd.DataFrame(data2, index= index)\n",
    "\n",
    "\n",
    "result = df.join(df1, how='inner')\n",
    "result"
   ]
  },
  {
   "cell_type": "code",
   "execution_count": null,
   "id": "1f314896",
   "metadata": {},
   "outputs": [],
   "source": [
    "#Sorting DataFrames\n",
    "import pandas as pd\n",
    "data = {'Name': ['Alice', 'Bob', 'Charlie', 'David'],\n",
    "        'Age': [25, 30, 35, 40],\n",
    "        'Score': [85, 90, 95, 80]}\n",
    "df = pd.DataFrame(data)\n",
    "\n",
    "sorted_df = df.sort_values(by=['Age', 'Score']) #can sort by one value also\n",
    "df_sorted_by_index = df.sort_index()#sort by index\n",
    "df_sorted_by_index_desc = df.sort_index(ascending=False)\n",
    "sorted_df = df.sort_values(by='Age', kind='quicksort') #choosing sorting algorithm #other - mergesort, heapsort\n",
    "\n"
   ]
  },
  {
   "cell_type": "code",
   "execution_count": null,
   "id": "17b3b451",
   "metadata": {},
   "outputs": [],
   "source": [
    "df = pd.DataFrame({'Product': ['Carrots', 'Broccoli', 'Banana', 'Banana',\n",
    "                               'Beans', 'Orange', 'Broccoli', 'Banana'],\n",
    "                   'Category': ['Vegetable', 'Vegetable', 'Fruit', 'Fruit',\n",
    "                                'Vegetable', 'Fruit', 'Vegetable', 'Fruit'],\n",
    "                   'Quantity': [8, 5, 3, 4, 5, 9, 11, 8],\n",
    "                   'Amount': [270, 239, 617, 384, 626, 610, 62, 90]})\n",
    "\n",
    "pivot = df.pivot_table(index=['Product', 'Category'],\n",
    "                       values=['Amount'], aggfunc='sum')\n",
    "pivot2 = df.pivot_table(index=['Product'], values=['Amount'],\n",
    "                       aggfunc={'median', 'mean', 'min'})\n",
    "print(pivot)\n",
    "\n",
    "print(pivot2)"
   ]
  },
  {
   "cell_type": "code",
   "execution_count": null,
   "id": "e0fd3da2",
   "metadata": {},
   "outputs": [],
   "source": [
    "#SERIES IN PANDAS"
   ]
  },
  {
   "cell_type": "code",
   "execution_count": null,
   "id": "0b4a1a6b",
   "metadata": {},
   "outputs": [],
   "source": [
    "#creating a pandas series\n",
    "import pandas as pd\n",
    "ser = pd.Series() #empty series - Series([], dtype: float64)\n",
    "\n",
    "#using a array\n",
    "import numpy as np\n",
    "ser2 = np.array([1 , 2, 3, 4, 5] , index = ['a' , 'b' , 'c' , 'd' , 'e']) #index is optional\n",
    "data = pd.Series(ser2)\n",
    "\n",
    "#using a list\n",
    "data_list = ['g', 'e', 'e', 'k', 's']\n",
    "ser3 = pd.Series(data_list)\n",
    "\n",
    "#using a dictionary\n",
    "data_dict = {'Geeks': 10, 'for': 20, 'geeks': 30}\n",
    "ser = pd.Series(data_dict)\n",
    "\n",
    "ser = pd.Series(np.linspace(1, 10, 5))\n",
    "print(ser)\n",
    "\n",
    "ser4 = pd.Series(range(5, 15))\n",
    "\n",
    "ser5=pd.Series(range(1,20,3), index=[x for x in 'abcdefg'])\n",
    "print(ser5)\n"
   ]
  },
  {
   "cell_type": "code",
   "execution_count": null,
   "id": "6fec79fb",
   "metadata": {},
   "outputs": [],
   "source": [
    "#Binary operation on Series and DataFrame\n",
    "import pandas as pd\n",
    "ser = pd.Series([1,2,3,4] , index = ['a' , 'b' , 'c' , 'd'])\n",
    "ser2 = pd.Series([7,8,9,10] , index=['a' , 'b' , 'c' , 'd'])\n",
    "\n",
    "result = ser + ser2 #addition\n",
    "result2 = ser == ser2 #comparison\n",
    "\n",
    "df1 = pd.DataFrame({'A': [10, 20, 30], 'B': [40, 50, 60]})\n",
    "df2 = pd.DataFrame({'A': [5, 15, 35], 'B': [30, 60, 55]})\n",
    "\n",
    "result3 = df1 > df2\n",
    "result4 = df1 - df2\n",
    "\n",
    "s1 = pd.Series([True, False, True])\n",
    "s2 = pd.Series([False, False, True])\n",
    "\n",
    "# Applying logical AND - also supports OR , NOT , etc.\n",
    "result = s1 & s2\n"
   ]
  },
  {
   "cell_type": "code",
   "execution_count": null,
   "id": "f7de1192",
   "metadata": {},
   "outputs": [],
   "source": [
    "#Pandas Series Index Attribute\n",
    "import pandas as pd\n",
    "\n",
    "data = pd.Series([10, 20, 30, 40], index=['a', 'b', 'c', 'd'])\n",
    "\n",
    "# Accessing the index\n",
    "print(\"Original Index:\", data.index)\n",
    "\n",
    "# Modifying the index\n",
    "data.index = ['w', 'x', 'y', 'z']\n",
    "print(\"Modified Series:\\n\", data)"
   ]
  }
 ],
 "metadata": {
  "kernelspec": {
   "display_name": "base",
   "language": "python",
   "name": "python3"
  },
  "language_info": {
   "codemirror_mode": {
    "name": "ipython",
    "version": 3
   },
   "file_extension": ".py",
   "mimetype": "text/x-python",
   "name": "python",
   "nbconvert_exporter": "python",
   "pygments_lexer": "ipython3",
   "version": "3.13.5"
  }
 },
 "nbformat": 4,
 "nbformat_minor": 5
}
